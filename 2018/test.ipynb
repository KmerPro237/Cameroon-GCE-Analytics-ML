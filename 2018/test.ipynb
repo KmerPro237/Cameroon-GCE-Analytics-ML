{
 "cells": [
  {
   "cell_type": "code",
   "execution_count": 59,
   "metadata": {},
   "outputs": [
    {
     "data": {
      "text/plain": [
       "'2018 RESULTS: GCE ADVANCED LEVEL GENERAL \\n1 \\n \\nCentre NO :10300 Buea Catchment Centre  \\nRegis: 0,Sat for 2 or more subjects: , Passed: 0, % Passed: 0.0 \\nResults of successful candidate (In Order of Merit)  \\nCentre NO :11000 CcasKumba B  \\nRegis: 303,Sat for 2 or more subjects: 301, Passed: 193, % Passed: 64.12 \\nResults of successful candidate (In Order of Merit)  \\nPassed in 5 Subjects: 8 \\n(1) EYABI EDWARD EPIE :- BIO-D, CHE-D, PMM-E, FMA-E, PHY-D,  \\n(2) KANG BLAISE MUA :- GEO-E, REL-C, ENG-E, ECO-E, HIS-C,  \\n(3) BALUMA FLOURIA BAPENDA :- CHE-C, PHY-D, FMA-E, BIO-E, PMM-D,  \\n(4) EYAMBE LAWRENCE MOSAMAI :- CHE-C, BIO-D, PHY-C, PMM-C,  \\nICT-B,  \\n(5) TEMEJUNG JUNIOR TEMBANG :- PMM-C, ICT-C, PHY-C, CHE-C, BIO-C,  \\n(6) AKANJI ROZITTA EZOUGA :- BIO-B, CHE-B, PHY-D, PMM-B,  \\nFMA-D,  \\n(7) TAYIM VALINASH ANOH :- BIO-C, PMM-A, CHE-C, FMA-D,  \\nPHY-C,  \\n(8) MBASSENGUE HELMAN UGBUTA :- PHY-C, BIO-C, CHE-C, \\n PMM-B, FMA-B,  \\n \\nPassed in 4 Subjects: 29 \\n(1) ANYERE AFOR RUTH :- ECO-E, GEO-E, ICT-E, HIS-'"
      ]
     },
     "execution_count": 59,
     "metadata": {},
     "output_type": "execute_result"
    }
   ],
   "source": [
    "import fitz  \n",
    "import re\n",
    "from collections import defaultdict\n",
    "import matplotlib.pyplot as plt\n",
    "\n",
    "import sys\n",
    "sys.path.append('../common/')\n",
    "from common import *\n",
    "\n",
    "file_path = '2018-AL-GEN.pdf'\n",
    "doc = fitz.open(file_path)\n",
    "\n",
    "\n",
    "text = ''\n",
    "for page in doc:\n",
    "    text += page.get_text()\n",
    "\n",
    "text[:1000]  \n"
   ]
  },
  {
   "cell_type": "code",
   "execution_count": 60,
   "metadata": {},
   "outputs": [],
   "source": [
    "pattern = re.compile(r'\\(\\d+\\)\\s+([A-Z\\s]+)\\s*:-\\s*([A-Z]{3,5}-[A-E],(?:\\s*[A-Z]{3,5}-[A-E],)*)\\s*\\n')"
   ]
  },
  {
   "cell_type": "code",
   "execution_count": 61,
   "metadata": {},
   "outputs": [
    {
     "name": "stdout",
     "output_type": "stream",
     "text": [
      "Total number of candidates: 24560\n"
     ]
    }
   ],
   "source": [
    "candidates = pattern.findall(text)\n",
    "dict_candidates = { candidate[0].strip(): Record(candidate) for candidate in candidates }\n",
    "grade_distribution = defaultdict(GradeDist)\n",
    "# Summary of candidates\n",
    "print(f\"Total number of candidates: {len(dict_candidates)}\")"
   ]
  },
  {
   "cell_type": "code",
   "execution_count": 62,
   "metadata": {},
   "outputs": [],
   "source": [
    "def top_n_percent(grade_distribution, grade):\n",
    "    total_candidates = len(dict_candidates)\n",
    "    candidates_considered = 0\n",
    "    while grade <= 25:\n",
    "        candidates_considered += grade_distribution[grade].count\n",
    "        grade += 1\n",
    "    return candidates_considered / (total_candidates*100/70) * 100 # accounting for 70% failure rate"
   ]
  },
  {
   "cell_type": "code",
   "execution_count": 63,
   "metadata": {},
   "outputs": [
    {
     "name": "stdout",
     "output_type": "stream",
     "text": [
      "EYABI EDWARD EPIE GPA: 1.60 | 8 points -> {'BIO': 'D', 'CHE': 'D', 'PMM': 'E', 'FMA': 'E', 'PHY': 'D'}\n",
      "KANG BLAISE MUA GPA: 1.80 | 9 points -> {'GEO': 'E', 'REL': 'C', 'ENG': 'E', 'ECO': 'E', 'HIS': 'C'}\n",
      "BALUMA FLOURIA BAPENDA GPA: 1.80 | 9 points -> {'CHE': 'C', 'PHY': 'D', 'FMA': 'E', 'BIO': 'E', 'PMM': 'D'}\n",
      "EYAMBE LAWRENCE MOSAMAI GPA: 3.00 | 15 points -> {'CHE': 'C', 'BIO': 'D', 'PHY': 'C', 'PMM': 'C', 'ICT': 'B'}\n",
      "TEMEJUNG JUNIOR TEMBANG GPA: 3.00 | 15 points -> {'PMM': 'C', 'ICT': 'C', 'PHY': 'C', 'CHE': 'C', 'BIO': 'C'}\n",
      "AKANJI ROZITTA EZOUGA GPA: 3.20 | 16 points -> {'BIO': 'B', 'CHE': 'B', 'PHY': 'D', 'PMM': 'B', 'FMA': 'D'}\n",
      "TAYIM VALINASH ANOH GPA: 3.20 | 16 points -> {'BIO': 'C', 'PMM': 'A', 'CHE': 'C', 'FMA': 'D', 'PHY': 'C'}\n",
      "MBASSENGUE HELMAN UGBUTA GPA: 3.40 | 17 points -> {'PHY': 'C', 'BIO': 'C', 'CHE': 'C', 'PMM': 'B', 'FMA': 'B'}\n",
      "ANYERE AFOR RUTH GPA: 1.00 | 4 points -> {'ECO': 'E', 'GEO': 'E', 'ICT': 'E', 'HIS': 'E'}\n",
      "ACHALLE DENIS TABE GPA: 1.00 | 4 points -> {'GEO': 'E', 'HIS': 'E', 'ECO': 'E', 'ICT': 'E'}\n"
     ]
    }
   ],
   "source": [
    "\n",
    "\n",
    "for ind, candidate in enumerate(dict_candidates):\n",
    "    if ind == 10:\n",
    "        break\n",
    "    print(candidate, dict_candidates[candidate])"
   ]
  },
  {
   "cell_type": "code",
   "execution_count": 64,
   "metadata": {},
   "outputs": [
    {
     "data": {
      "text/plain": [
       "<BarContainer object of 25 artists>"
      ]
     },
     "execution_count": 64,
     "metadata": {},
     "output_type": "execute_result"
    },
    {
     "data": {
      "image/png": "[encoded data removed]",
      "text/plain": [
       "<Figure size 640x480 with 1 Axes>"
      ]
     },
     "metadata": {},
     "output_type": "display_data"
    }
   ],
   "source": [
    "grade_distribution = defaultdict(GradeDist)\n",
    "for candidate in dict_candidates:\n",
    "    grade_distribution[dict_candidates[candidate].points].add(candidate)\n",
    "\n",
    "plt.bar(grade_distribution.keys(), [grade_distribution[key].count for key in grade_distribution.keys()])"
   ]
  },
  {
   "cell_type": "code",
   "execution_count": 65,
   "metadata": {},
   "outputs": [
    {
     "name": "stdout",
     "output_type": "stream",
     "text": [
      "Points \t: \tNumber of candidates \t: \tTop n% of candidates\n",
      "------ \t: \t--------------------- \t: \t--------------------\n",
      "25\t: \t\t32 \t\t: \t\t0.09%\n",
      "24\t: \t\t33 \t\t: \t\t0.19%\n",
      "23\t: \t\t47 \t\t: \t\t0.32%\n",
      "22\t: \t\t53 \t\t: \t\t0.47%\n",
      "21\t: \t\t78 \t\t: \t\t0.69%\n",
      "20\t: \t\t99 \t\t: \t\t0.97%\n",
      "19\t: \t\t112 \t\t: \t\t1.29%\n",
      "18\t: \t\t131 \t\t: \t\t1.67%\n",
      "17\t: \t\t169 \t\t: \t\t2.15%\n",
      "16\t: \t\t221 \t\t: \t\t2.78%\n",
      "15\t: \t\t246 \t\t: \t\t3.48%\n",
      "14\t: \t\t325 \t\t: \t\t4.41%\n",
      "13\t: \t\t419 \t\t: \t\t5.60%\n",
      "12\t: \t\t503 \t\t: \t\t7.03%\n",
      "11\t: \t\t667 \t\t: \t\t8.94%\n",
      "10\t: \t\t922 \t\t: \t\t11.56%\n",
      "9\t: \t\t1198 \t\t: \t\t14.98%\n",
      "8\t: \t\t1487 \t\t: \t\t19.22%\n",
      "7\t: \t\t1931 \t\t: \t\t24.72%\n",
      "6\t: \t\t2453 \t\t: \t\t31.71%\n",
      "5\t: \t\t3238 \t\t: \t\t40.94%\n",
      "4\t: \t\t3598 \t\t: \t\t51.19%\n",
      "3\t: \t\t3733 \t\t: \t\t61.83%\n",
      "2\t: \t\t2864 \t\t: \t\t70.00%\n",
      "1\t: \t\t1 \t\t: \t\t70.00%\n"
     ]
    }
   ],
   "source": [
    "print(\"Points \\t: \\tNumber of candidates \\t: \\tTop n% of candidates\")\n",
    "print(\"------ \\t: \\t--------------------- \\t: \\t--------------------\")\n",
    "for key in sorted(grade_distribution.keys(), reverse=True):\n",
    "    print(f\"{key}\\t: \\t\\t{grade_distribution[key]} \\t\\t: \\t\\t{top_n_percent(grade_distribution, key):.2f}%\")"
   ]
  },
  {
   "cell_type": "code",
   "execution_count": 66,
   "metadata": {},
   "outputs": [
    {
     "data": {
      "text/plain": [
       "['KFTCHATEN NGANTCHA C']"
      ]
     },
     "execution_count": 66,
     "metadata": {},
     "output_type": "execute_result"
    }
   ],
   "source": [
    "grade_distribution[1].names # List of candidates with 1 point"
   ]
  },
  {
   "cell_type": "code",
   "execution_count": 67,
   "metadata": {},
   "outputs": [
    {
     "data": {
      "text/plain": [
       "GPA: 1.00 | 1 points -> {'PHI': 'E'}"
      ]
     },
     "execution_count": 67,
     "metadata": {},
     "output_type": "execute_result"
    }
   ],
   "source": [
    "dict_candidates[\"KFTCHATEN NGANTCHA C\"] # Candidate has 1 point because the subject Philosophy(PHI) appears twice with 2 Es.\n",
    "# i.e. (8) KFTCHATEN NGANTCHA C :- PHI-E, PHI-E,"
   ]
  },
  {
   "cell_type": "code",
   "execution_count": 68,
   "metadata": {},
   "outputs": [
    {
     "name": "stdout",
     "output_type": "stream",
     "text": [
      "Total 32 candidates with 25 points\n",
      "Candidates with 25 points(top 0.09%):\n",
      "\t EPOI DIDI DANIEL MAELLE        \t GPA: 5.00 | 25 points -> {'PHY': 'A', 'FMA': 'A', 'PMM': 'A', 'CHE': 'A', 'BIO': 'A'}\n",
      "\t TIKU ROY AKURO                 \t GPA: 5.00 | 25 points -> {'FMA': 'A', 'PHY': 'A', 'PMM': 'A', 'CHE': 'A', 'BIO': 'A'}\n",
      "\t MBINKAR MONIQUE KERNYUY        \t GPA: 5.00 | 25 points -> {'BIO': 'A', 'CHE': 'A', 'PMM': 'A', 'FMA': 'A', 'PHY': 'A'}\n",
      "\t FOTSO SOUOP ARMEL GIOVANY      \t GPA: 5.00 | 25 points -> {'BIO': 'A', 'CHE': 'A', 'PMM': 'A', 'FMA': 'A', 'PHY': 'A'}\n",
      "\t NKENGANYI AKA ELVIRA           \t GPA: 5.00 | 25 points -> {'PHY': 'A', 'BIO': 'A', 'CHE': 'A', 'PMM': 'A', 'FMA': 'A'}\n",
      "\t ANYU KIMBERLY JENNY CHE        \t GPA: 5.00 | 25 points -> {'BIO': 'A', 'CHE': 'A', 'PMM': 'A', 'FMA': 'A', 'PHY': 'A'}\n",
      "\t LONGATIE MASSA MANGYE HOPE     \t GPA: 5.00 | 25 points -> {'BIO': 'A', 'CHE': 'A', 'PMM': 'A', 'FMA': 'A', 'PHY': 'A'}\n",
      "\t ADE FRU GEORGE                 \t GPA: 5.00 | 25 points -> {'BIO': 'A', 'CHE': 'A', 'PMM': 'A', 'FMA': 'A', 'PHY': 'A'}\n",
      "\t BENYELLA PERRY BAMBOT          \t GPA: 5.00 | 25 points -> {'BIO': 'A', 'CHE': 'A', 'PMM': 'A', 'FMA': 'A', 'PHY': 'A'}\n",
      "\t KUETE TAKAM ARMAND JUNIOR      \t GPA: 5.00 | 25 points -> {'PHY': 'A', 'CHE': 'A', 'BIO': 'A', 'PMM': 'A', 'FMA': 'A'}\n",
      "\t TANKOU TAYO BONACHI            \t GPA: 5.00 | 25 points -> {'FMA': 'A', 'BIO': 'A', 'CHE': 'A', 'PMM': 'A', 'PHY': 'A'}\n",
      "\t NKOLAKA TANYILEKE              \t GPA: 5.00 | 25 points -> {'CHE': 'A', 'FMA': 'A', 'BIO': 'A', 'PMM': 'A', 'PHY': 'A'}\n",
      "\t WIRKOM MARK NYUYFONI           \t GPA: 5.00 | 25 points -> {'FMA': 'A', 'PHY': 'A', 'BIO': 'A', 'CHE': 'A', 'PMM': 'A'}\n",
      "\t WIRBA ALEXIA BERINYUY          \t GPA: 5.00 | 25 points -> {'CHE': 'A', 'BIO': 'A', 'PMM': 'A', 'PHY': 'A', 'FMA': 'A'}\n",
      "\t DINDZE OLIVE DUBILA            \t GPA: 5.00 | 25 points -> {'BIO': 'A', 'CHE': 'A', 'PMM': 'A', 'PHY': 'A', 'FMA': 'A'}\n",
      "\t FONGWI MOULUH PENN             \t GPA: 5.00 | 25 points -> {'CHE': 'A', 'PMM': 'A', 'PHY': 'A', 'BIO': 'A', 'FMA': 'A'}\n",
      "\t FONYUY EMMANUEL                \t GPA: 5.00 | 25 points -> {'FMA': 'A', 'BIO': 'A', 'PHY': 'A', 'CHE': 'A', 'PMM': 'A'}\n",
      "\t CHE JOHN BELOVE FU             \t GPA: 5.00 | 25 points -> {'CHE': 'A', 'FMA': 'A', 'PHY': 'A', 'PMM': 'A', 'BIO': 'A'}\n",
      "\t YAPEWO KAMNANG CAMILLE NEELA   \t GPA: 5.00 | 25 points -> {'BIO': 'A', 'CHE': 'A', 'PMM': 'A', 'FMA': 'A', 'PHY': 'A'}\n",
      "\t NDJENGWESS BASSONG CEDRIC ARNO \t GPA: 5.00 | 25 points -> {'PHY': 'A', 'BIO': 'A', 'CHE': 'A', 'FMA': 'A', 'PMM': 'A'}\n",
      "\t TEH ALEN KUMA                  \t GPA: 5.00 | 25 points -> {'BIO': 'A', 'CHE': 'A', 'PHY': 'A', 'PMM': 'A', 'FMA': 'A'}\n",
      "\t NJEUNGUE NJIONWOU              \t GPA: 5.00 | 25 points -> {'BIO': 'A', 'CHE': 'A', 'FMA': 'A', 'PHY': 'A', 'PMM': 'A'}\n",
      "\t NDAM NJILIE DONALD             \t GPA: 5.00 | 25 points -> {'BIO': 'A', 'CHE': 'A', 'PMM': 'A', 'FMA': 'A', 'PHY': 'A'}\n",
      "\t UMUHIRE EVELYNE                \t GPA: 5.00 | 25 points -> {'FMA': 'A', 'PHY': 'A', 'BIO': 'A', 'CHE': 'A', 'PMM': 'A'}\n",
      "\t SHU CEDRIC MBOWA               \t GPA: 5.00 | 25 points -> {'CHE': 'A', 'BIO': 'A', 'PMM': 'A', 'FMA': 'A', 'PHY': 'A'}\n",
      "\t SUZANNE EFETI NOMISEH GABSA    \t GPA: 5.00 | 25 points -> {'BIO': 'A', 'FMA': 'A', 'PHY': 'A', 'CHE': 'A', 'PMM': 'A'}\n",
      "\t ALICESON TAMBE ACHARE ENONCHON \t GPA: 5.00 | 25 points -> {'FMA': 'A', 'PMM': 'A', 'BIO': 'A', 'CHE': 'A', 'PHY': 'A'}\n",
      "\t TCHINDA TANE JEAN AUSTIN       \t GPA: 5.00 | 25 points -> {'BIO': 'A', 'CHE': 'A', 'PMM': 'A', 'FMA': 'A', 'PHY': 'A'}\n",
      "\t ANONG MACDONALD ANONG          \t GPA: 5.00 | 25 points -> {'CHE': 'A', 'REL': 'A', 'BIO': 'A', 'FSN': 'A', 'PMS': 'A'}\n",
      "\t MEPPO KHOM BRYAN               \t GPA: 5.00 | 25 points -> {'BIO': 'A', 'CHE': 'A', 'PMM': 'A', 'FMA': 'A', 'PHY': 'A'}\n",
      "\t MONKAM AMADEIUS EL PIBE DE ORO \t GPA: 5.00 | 25 points -> {'FMA': 'A', 'PHY': 'A', 'PMM': 'A', 'CHE': 'A', 'BIO': 'A'}\n",
      "\t TCHABOU MUNYUTU NOUHR MARIE EU \t GPA: 5.00 | 25 points -> {'PMM': 'A', 'FMA': 'A', 'CHE': 'A', 'BIO': 'A', 'PHY': 'A'}\n"
     ]
    }
   ],
   "source": [
    "## All 25 points candidates\n",
    "\n",
    "print(f\"Total {grade_distribution[25].count} candidates with 25 points\")\n",
    "print(f\"Candidates with 25 points(top {top_n_percent(grade_distribution, 25):.2f}%):\")\n",
    "for candidate in grade_distribution[25].names:\n",
    "    print(\"\\t\", return_first_n_chars_or_fill_with_spaces(candidate), \"\\t\",  dict_candidates[candidate])"
   ]
  },
  {
   "cell_type": "code",
   "execution_count": 69,
   "metadata": {},
   "outputs": [
    {
     "name": "stdout",
     "output_type": "stream",
     "text": [
      "Total 33 candidates with 24 points\n",
      "Candidates with 24 points(top 0.19%):\n",
      "\t OMBUCHUM MICAH ANJI            \t GPA: 4.80 | 24 points -> {'BIO': 'A', 'CHE': 'B', 'PMM': 'A', 'FMA': 'A', 'PHY': 'A'}\n",
      "\t CHEUNWI DANIEL NGANECK         \t GPA: 4.80 | 24 points -> {'BIO': 'A', 'CHE': 'B', 'PMM': 'A', 'FMA': 'A', 'PHY': 'A'}\n",
      "\t FOADIENG NGUESSOM AUDE MARINA  \t GPA: 4.80 | 24 points -> {'FMA': 'B', 'CHE': 'A', 'BIO': 'A', 'PMM': 'A', 'PHY': 'A'}\n",
      "\t NDIFOR NADINE FRINWIE          \t GPA: 4.80 | 24 points -> {'BIO': 'B', 'CHE': 'A', 'PMM': 'A', 'FMA': 'A', 'PHY': 'A'}\n",
      "\t NANA GEORGE FRU                \t GPA: 4.80 | 24 points -> {'BIO': 'A', 'CHE': 'A', 'PMM': 'A', 'FMA': 'B', 'PHY': 'A'}\n",
      "\t MBANGA RAWLINGS ASAA           \t GPA: 4.80 | 24 points -> {'ECO': 'A', 'FRE': 'A', 'GEO': 'B', 'PMS': 'A', 'FMA': 'A'}\n",
      "\t LONGATIE FOZOH II BLESS        \t GPA: 4.80 | 24 points -> {'BIO': 'A', 'CHE': 'B', 'PMM': 'A', 'FMA': 'A', 'PHY': 'A'}\n",
      "\t YOSIMBI LOVETT MENGJIO         \t GPA: 4.80 | 24 points -> {'BIO': 'A', 'CHE': 'A', 'PMM': 'A', 'FMA': 'B', 'PHY': 'A'}\n",
      "\t POUSSEU LEDOU SIDANE           \t GPA: 4.80 | 24 points -> {'PHY': 'A', 'FMA': 'B', 'PMM': 'A', 'CHE': 'A', 'BIO': 'A'}\n",
      "\t SOHWO THREFFIN MAMISIEH        \t GPA: 4.80 | 24 points -> {'PHY': 'B', 'CHE': 'A', 'PMS': 'A', 'BIO': 'A', 'FSN': 'A'}\n",
      "\t TANO DELAND                    \t GPA: 4.80 | 24 points -> {'BIO': 'A', 'CHE': 'A', 'PMM': 'A', 'FMA': 'A', 'PHY': 'B'}\n",
      "\t ANYE MARION TSI                \t GPA: 4.80 | 24 points -> {'PHY': 'B', 'BIO': 'A', 'CHE': 'A', 'PMM': 'A', 'FMA': 'A'}\n",
      "\t NANTCHOUANG TIONGANG NONO ARIE \t GPA: 4.80 | 24 points -> {'BIO': 'A', 'CHE': 'B', 'PMM': 'A', 'FMA': 'A', 'PHY': 'A'}\n",
      "\t NDJESSE LETERE EMMANUEL ANDY   \t GPA: 4.80 | 24 points -> {'BIO': 'A', 'CHE': 'B', 'PMM': 'A', 'FMA': 'A', 'PHY': 'A'}\n",
      "\t MEKAM KENGNI DIMITRI MOREL     \t GPA: 4.80 | 24 points -> {'CHE': 'A', 'PHY': 'A', 'PMM': 'A', 'BIO': 'A', 'ICT': 'B'}\n",
      "\t TEGUIA DIMITRI KAMGANG         \t GPA: 4.80 | 24 points -> {'PMM': 'A', 'FMA': 'A', 'BIO': 'A', 'CHE': 'B', 'PHY': 'A'}\n",
      "\t GEENA AYUK NALOWA ETTA         \t GPA: 4.80 | 24 points -> {'BIO': 'A', 'FMA': 'A', 'CHE': 'B', 'PMM': 'A', 'PHY': 'A'}\n",
      "\t MBAH NADINE AMECK              \t GPA: 4.80 | 24 points -> {'BIO': 'A', 'CHE': 'A', 'FMA': 'B', 'PHY': 'A', 'PMM': 'A'}\n",
      "\t TSAFACK NGUENA LEONEL          \t GPA: 4.80 | 24 points -> {'BIO': 'A', 'PMM': 'A', 'PHY': 'B', 'CHE': 'A', 'FMA': 'A'}\n",
      "\t FOHSOH DANIEL MENGOPE          \t GPA: 4.80 | 24 points -> {'FMA': 'A', 'BIO': 'B', 'CHE': 'A', 'PMM': 'A', 'PHY': 'A'}\n",
      "\t ANGAAMA JOSHUA JUNIOR          \t GPA: 4.80 | 24 points -> {'PHY': 'A', 'PMM': 'A', 'CHE': 'A', 'BIO': 'B', 'FMA': 'A'}\n",
      "\t OKENE NDI ARMELLE              \t GPA: 4.80 | 24 points -> {'PHY': 'B', 'BIO': 'A', 'CHE': 'A', 'PMM': 'A', 'FMA': 'A'}\n",
      "\t MBUCKSEK BLAISE RINGNWI        \t GPA: 4.80 | 24 points -> {'FMA': 'A', 'BIO': 'A', 'PMM': 'A', 'PHY': 'B', 'CHE': 'A'}\n",
      "\t FUH BLAESIUS NGWANA            \t GPA: 4.80 | 24 points -> {'CHE': 'A', 'BIO': 'A', 'PMM': 'A', 'FMA': 'B', 'PHY': 'A'}\n",
      "\t LUMNWI BINLA CLOTILDA CHE      \t GPA: 4.80 | 24 points -> {'BIO': 'A', 'CHE': 'B', 'PMM': 'A', 'PHY': 'A', 'FMA': 'A'}\n",
      "\t ENGA FOTSO DAVID               \t GPA: 4.80 | 24 points -> {'BIO': 'A', 'CHE': 'B', 'PMM': 'A', 'FMA': 'A', 'PHY': 'A'}\n",
      "\t FOWE CHENDJOU JONATHAN WILLIAM \t GPA: 4.80 | 24 points -> {'PHY': 'A', 'FMA': 'B', 'BIO': 'A', 'PMM': 'A', 'CHE': 'A'}\n",
      "\t TEGHA MAXIMA ENAH              \t GPA: 4.80 | 24 points -> {'CHE': 'A', 'BIO': 'A', 'PMM': 'A', 'FMA': 'B', 'PHY': 'A'}\n",
      "\t NANAH NJEMON GRACE             \t GPA: 4.80 | 24 points -> {'FMA': 'B', 'PMM': 'A', 'CHE': 'A', 'BIO': 'A', 'PHY': 'A'}\n",
      "\t DJEUNGA MBAKAKEU FRANKLIN NELS \t GPA: 4.80 | 24 points -> {'PMM': 'A', 'BIO': 'A', 'CHE': 'B', 'FMA': 'A', 'PHY': 'A'}\n",
      "\t ARREY JASON SMITHY             \t GPA: 4.80 | 24 points -> {'PHY': 'A', 'FMA': 'B', 'BIO': 'A', 'CHE': 'A', 'PMM': 'A'}\n",
      "\t NKWANUI FONGONG WILSON HOLLYFI \t GPA: 4.80 | 24 points -> {'ECO': 'A', 'FRE': 'A', 'HIS': 'A', 'ENG': 'A', 'LIT': 'B'}\n",
      "\t TCHOMBE FRANCK PRADEL          \t GPA: 4.80 | 24 points -> {'FMA': 'A', 'BIO': 'B', 'CHE': 'A', 'PHY': 'A', 'PMM': 'A'}\n"
     ]
    }
   ],
   "source": [
    "## All 24 points candidates\n",
    "\n",
    "print(f\"Total {grade_distribution[24].count} candidates with 24 points\")\n",
    "print(f\"Candidates with 24 points(top {top_n_percent(grade_distribution, 24):.2f}%):\")\n",
    "for candidate in grade_distribution[24].names:\n",
    "    print(\"\\t\", return_first_n_chars_or_fill_with_spaces(candidate), \"\\t\",  dict_candidates[candidate])"
   ]
  },
  {
   "cell_type": "code",
   "execution_count": 70,
   "metadata": {},
   "outputs": [
    {
     "name": "stdout",
     "output_type": "stream",
     "text": [
      "Total 47 candidates with 23 points\n",
      "Candidates with 23 points(top 0.32%):\n",
      "\t NGUEPI TANFACK CROWN BERLIOZ   \t GPA: 4.60 | 23 points -> {'PHY': 'A', 'FMA': 'A', 'PMM': 'A', 'CHE': 'C', 'BIO': 'A'}\n",
      "\t SANOU LIOMO CORNEILLE          \t GPA: 4.60 | 23 points -> {'FMA': 'A', 'BIO': 'B', 'PHY': 'A', 'PMM': 'A', 'CHE': 'B'}\n",
      "\t NKWESCHEU KOM SERGES LOIC      \t GPA: 4.60 | 23 points -> {'CHE': 'A', 'PMM': 'A', 'FMA': 'A', 'PHY': 'A', 'CSC': 'C'}\n",
      "\t OJONG EUGENE WARREN ESSINDI    \t GPA: 4.60 | 23 points -> {'BIO': 'A', 'CHE': 'A', 'PHY': 'B', 'PMM': 'A', 'FMA': 'B'}\n",
      "\t NGUH DANIEL NDANGSA            \t GPA: 4.60 | 23 points -> {'BIO': 'A', 'CHE': 'B', 'PMM': 'A', 'FMA': 'B', 'PHY': 'A'}\n",
      "\t ASONGWE BRANDON BAH            \t GPA: 4.60 | 23 points -> {'BIO': 'B', 'CHE': 'A', 'PMM': 'A', 'FMA': 'B', 'PHY': 'A'}\n",
      "\t NJIOMUO SATCHIE THEO DYLAND    \t GPA: 4.60 | 23 points -> {'PHY': 'A', 'FMA': 'B', 'PMM': 'A', 'CHE': 'B', 'BIO': 'A'}\n",
      "\t AWARADIA TINARENA ABAMBE       \t GPA: 4.60 | 23 points -> {'BIO': 'A', 'CHE': 'A', 'PMM': 'A', 'FMA': 'B', 'PHY': 'B'}\n",
      "\t SUNJO KAREN VERNYUY SIKIMOKI   \t GPA: 4.60 | 23 points -> {'CHE': 'A', 'PMM': 'A', 'FMA': 'A', 'PHY': 'C', 'BIO': 'A'}\n",
      "\t ARNOLD ANYA FUH                \t GPA: 4.60 | 23 points -> {'FMA': 'A', 'BIO': 'B', 'CHE': 'B', 'PMM': 'A', 'PHY': 'A'}\n",
      "\t CHUNG KIYNENFEYEN NDANSAK      \t GPA: 4.60 | 23 points -> {'BIO': 'B', 'CHE': 'B', 'PMM': 'A', 'FMA': 'A', 'PHY': 'A'}\n",
      "\t FONDZENYUY TONYLOUIS VERBERI   \t GPA: 4.60 | 23 points -> {'CHE': 'A', 'PMM': 'A', 'BIO': 'A', 'FMA': 'B', 'PHY': 'B'}\n",
      "\t TAMON DARLNGTON TABA           \t GPA: 4.60 | 23 points -> {'BIO': 'B', 'FMA': 'B', 'PHY': 'A', 'CHE': 'A', 'PMM': 'A'}\n",
      "\t NGAYAP YVAN MOREL              \t GPA: 4.60 | 23 points -> {'PMM': 'A', 'PHY': 'A', 'BIO': 'A', 'CHE': 'C', 'FMA': 'A'}\n",
      "\t TANGKA BRIAN KERNYUY           \t GPA: 4.60 | 23 points -> {'BIO': 'A', 'PMM': 'A', 'FMA': 'B', 'PHY': 'A', 'CHE': 'B'}\n",
      "\t KENGNE MBE ARIANE MYLINA       \t GPA: 4.60 | 23 points -> {'BIO': 'A', 'CHE': 'B', 'PMM': 'A', 'FMA': 'B', 'PHY': 'A'}\n",
      "\t NZA WANDOUM LAURENS VERNET     \t GPA: 4.60 | 23 points -> {'FMA': 'B', 'PHY': 'A', 'BIO': 'B', 'CHE': 'A', 'PMM': 'A'}\n",
      "\t KELEI PAULINE KEMBEH           \t GPA: 4.60 | 23 points -> {'CHE': 'A', 'PMM': 'A', 'FMA': 'A', 'BIO': 'A', 'PHY': 'C'}\n",
      "\t CHE NEBA MANKAA                \t GPA: 4.60 | 23 points -> {'BIO': 'A', 'FMA': 'A', 'PHY': 'C', 'CHE': 'A', 'PMM': 'A'}\n",
      "\t LUM CHANCELINE MAFOR           \t GPA: 4.60 | 23 points -> {'BIO': 'A', 'PHY': 'A', 'FSN': 'C', 'CHE': 'A', 'PMS': 'A'}\n",
      "\t NDEH FOUTE ARTHUR              \t GPA: 4.60 | 23 points -> {'BIO': 'B', 'CHE': 'B', 'PMM': 'A', 'FMA': 'A', 'PHY': 'A'}\n",
      "\t BAH COLLINS BANSEKA            \t GPA: 4.60 | 23 points -> {'CHE': 'B', 'BIO': 'B', 'PMM': 'A', 'FMA': 'A', 'PHY': 'A'}\n",
      "\t NGUEMBOU KEUTAT SONIA CARELE   \t GPA: 4.60 | 23 points -> {'BIO': 'A', 'CHE': 'C', 'PMM': 'A', 'FMA': 'A', 'PHY': 'A'}\n",
      "\t NANFA NGUEFACK JOEL MANUEL     \t GPA: 4.60 | 23 points -> {'CHE': 'A', 'ICT': 'B', 'BIO': 'A', 'PMM': 'A', 'PHY': 'B'}\n",
      "\t MAIMO EMMANUEL KINFIE          \t GPA: 4.60 | 23 points -> {'BIO': 'A', 'CHE': 'B', 'PMM': 'A', 'PHY': 'A', 'FMA': 'B'}\n",
      "\t TCHOFFO TCHOFFO JOEL           \t GPA: 4.60 | 23 points -> {'BIO': 'A', 'PHY': 'A', 'FMA': 'A', 'PMM': 'A', 'CHE': 'C'}\n",
      "\t MEWOABI LEKEAKA JOE LEONTIUS   \t GPA: 4.60 | 23 points -> {'PHY': 'A', 'CHE': 'B', 'BIO': 'B', 'PMM': 'A', 'FMA': 'A'}\n",
      "\t GANLEU MONTE BRICE JORDAN      \t GPA: 4.60 | 23 points -> {'BIO': 'A', 'CHE': 'B', 'FMA': 'A', 'PMM': 'A', 'PHY': 'B'}\n",
      "\t DJOMO KOUASSI ALEX ROUSSEL     \t GPA: 4.60 | 23 points -> {'BIO': 'A', 'FMA': 'B', 'PHY': 'A', 'CHE': 'B', 'PMM': 'A'}\n",
      "\t FOMEKONG KENGNE WILLY JACKSON  \t GPA: 4.60 | 23 points -> {'PMS': 'A', 'FMA': 'B', 'ECO': 'A', 'SBF': 'B', 'GEO': 'A'}\n",
      "\t SIMO JIATSA AARON WILFRED      \t GPA: 4.60 | 23 points -> {'BIO': 'A', 'CHE': 'C', 'PMM': 'A', 'FMA': 'A', 'PHY': 'A'}\n",
      "\t KEUGUENG DJUKA STEPHAN JUNIOR  \t GPA: 4.60 | 23 points -> {'BIO': 'A', 'CHE': 'B', 'PMM': 'A', 'FMA': 'A', 'PHY': 'B'}\n",
      "\t NSIA KENGNI FREDY LEONEL       \t GPA: 4.60 | 23 points -> {'BIO': 'A', 'PMM': 'A', 'FMA': 'B', 'PHY': 'B', 'CHE': 'A'}\n",
      "\t NCHE VICTORY FRU AFAHNWI       \t GPA: 4.60 | 23 points -> {'BIO': 'A', 'PHY': 'A', 'CHE': 'A', 'PMM': 'B', 'FMA': 'B'}\n",
      "\t BOUHOU KOUONGNI AUDRIQUE       \t GPA: 4.60 | 23 points -> {'PMM': 'A', 'FMA': 'B', 'CHE': 'A', 'PHY': 'A', 'BIO': 'B'}\n",
      "\t TANI PLACID BURINYUY           \t GPA: 4.60 | 23 points -> {'PHY': 'B', 'BIO': 'A', 'CHE': 'B', 'PMM': 'A', 'FMA': 'A'}\n",
      "\t FOGUE FOTSO ALEX DENERI MARTIA \t GPA: 4.60 | 23 points -> {'CHE': 'B', 'PMM': 'A', 'FMA': 'A', 'PHY': 'A', 'BIO': 'B'}\n",
      "\t DJOMO ELISABETH FIONA          \t GPA: 4.60 | 23 points -> {'CHE': 'B', 'PMM': 'A', 'FMA': 'A', 'BIO': 'B', 'PHY': 'A'}\n",
      "\t DEDE API FON                   \t GPA: 4.60 | 23 points -> {'BIO': 'A', 'CHE': 'B', 'PMM': 'A', 'FMA': 'B', 'PHY': 'A'}\n",
      "\t DJAPA OTHNIEL                  \t GPA: 4.60 | 23 points -> {'BIO': 'A', 'CHE': 'A', 'PMM': 'A', 'PHY': 'A', 'ICT': 'C'}\n",
      "\t FOZE TEKAM YANICK MERVEIL      \t GPA: 4.60 | 23 points -> {'BIO': 'B', 'CHE': 'A', 'PMM': 'A', 'FMA': 'B', 'PHY': 'A'}\n",
      "\t NUZAH NDITACHI MELCHIOR        \t GPA: 4.60 | 23 points -> {'BIO': 'A', 'CHE': 'A', 'PMM': 'A', 'FMA': 'B', 'PHY': 'B'}\n",
      "\t HOTCHO NKENGA GISLAIN          \t GPA: 4.60 | 23 points -> {'BIO': 'A', 'CHE': 'B', 'FMA': 'A', 'PHY': 'B', 'PMM': 'A'}\n",
      "\t TALLA KEMKOUM DIVINE           \t GPA: 4.60 | 23 points -> {'BIO': 'A', 'CHE': 'A', 'PMM': 'A', 'FMA': 'B', 'PHY': 'B'}\n",
      "\t ZEUMO LEKANE STYVE OREL        \t GPA: 4.60 | 23 points -> {'BIO': 'A', 'CHE': 'C', 'PMM': 'A', 'PHY': 'A', 'FMA': 'A'}\n",
      "\t NFOR BRANDON NFOR II           \t GPA: 4.60 | 23 points -> {'BIO': 'A', 'CHE': 'B', 'PMM': 'A', 'FMA': 'A', 'PHY': 'B'}\n",
      "\t IBRAHIM ALI                    \t GPA: 4.60 | 23 points -> {'PHY': 'B', 'FSN': 'A', 'CHE': 'A', 'BIO': 'A', 'PMM': 'B'}\n"
     ]
    }
   ],
   "source": [
    "## All 23 points candidates\n",
    "\n",
    "print(f\"Total {grade_distribution[23].count} candidates with 23 points\")\n",
    "print(f\"Candidates with 23 points(top {top_n_percent(grade_distribution, 23):.2f}%):\")\n",
    "for candidate in grade_distribution[23].names:\n",
    "    print(\"\\t\", return_first_n_chars_or_fill_with_spaces(candidate), \"\\t\",  dict_candidates[candidate])"
   ]
  },
  {
   "cell_type": "code",
   "execution_count": 71,
   "metadata": {},
   "outputs": [
    {
     "name": "stdout",
     "output_type": "stream",
     "text": [
      "Total 53 candidates with 22 points\n",
      "Candidates with 22 points(top 0.47%):\n",
      "\t PETER NJIE MBUA JUNIOR         \t GPA: 4.40 | 22 points -> {'BIO': 'A', 'CHE': 'D', 'PMM': 'A', 'FMA': 'A', 'PHY': 'A'}\n",
      "\t NORIS ANUBONDEM ATSINA         \t GPA: 4.40 | 22 points -> {'PHY': 'A', 'FMA': 'A', 'PMM': 'A', 'CHE': 'B', 'BIO': 'C'}\n",
      "\t NJIKEP MPAKO JORDAN            \t GPA: 4.40 | 22 points -> {'FMA': 'B', 'PHY': 'A', 'PMM': 'A', 'CHE': 'B', 'BIO': 'B'}\n",
      "\t ATEMBA LISE PHONJAM            \t GPA: 4.40 | 22 points -> {'BIO': 'B', 'CHE': 'A', 'FSN': 'A', 'PMS': 'A', 'PHY': 'C'}\n",
      "\t FONKWO PETER NDEBEH JUNIOR     \t GPA: 4.40 | 22 points -> {'BIO': 'B', 'CHE': 'B', 'PMM': 'A', 'PHY': 'A', 'FMA': 'B'}\n",
      "\t MUNGOH BRYAN FUNUE ABONGWA     \t GPA: 4.40 | 22 points -> {'BIO': 'B', 'CHE': 'C', 'PMM': 'A', 'FMA': 'A', 'PHY': 'A'}\n",
      "\t CHOVES SANGTUM FOINJUNG        \t GPA: 4.40 | 22 points -> {'ECO': 'A', 'GEO': 'B', 'PHI': 'A', 'ENG': 'B', 'PMS': 'B'}\n",
      "\t BALEN BUYUH ASANGBEH           \t GPA: 4.40 | 22 points -> {'PMM': 'A', 'BIO': 'B', 'CHE': 'A', 'PHY': 'C', 'FMA': 'A'}\n",
      "\t ATABONGAFAC DOREEN MBITAZI     \t GPA: 4.40 | 22 points -> {'BIO': 'A', 'CHE': 'A', 'PMM': 'A', 'FMA': 'A', 'PHY': 'D'}\n",
      "\t MAFOUO DJOU BRIDNEY BRIANA     \t GPA: 4.40 | 22 points -> {'PHY': 'A', 'BIO': 'B', 'PMM': 'A', 'FMA': 'B', 'CHE': 'B'}\n",
      "\t YOUMOU NZEUGA ISABELLE JANICE  \t GPA: 4.40 | 22 points -> {'BIO': 'B', 'PMM': 'A', 'PHY': 'A', 'FMA': 'C', 'CHE': 'A'}\n",
      "\t KOUDJOU SONEGUENG ALICE VERDIA \t GPA: 4.40 | 22 points -> {'CHE': 'B', 'FMA': 'B', 'PHY': 'A', 'BIO': 'B', 'PMM': 'A'}\n",
      "\t SIMO KOUAM PATRICK MICHEL      \t GPA: 4.40 | 22 points -> {'PMM': 'A', 'PHY': 'A', 'CSC': 'D', 'BIO': 'A', 'CHE': 'A'}\n",
      "\t JOSEPH NCHENDIA NKENG JUNIOR   \t GPA: 4.40 | 22 points -> {'FMA': 'A', 'PMM': 'A', 'PHY': 'A', 'CHE': 'B', 'CSC': 'C'}\n",
      "\t NGUIMFACK GHISLAIN             \t GPA: 4.40 | 22 points -> {'PHY': 'A', 'PMM': 'A', 'CHE': 'C', 'BIO': 'A', 'FMA': 'B'}\n",
      "\t SHERIFATU LEINYUY              \t GPA: 4.40 | 22 points -> {'CHE': 'C', 'PMM': 'A', 'PHY': 'B', 'BIO': 'A', 'FMA': 'A'}\n",
      "\t TAH MILTON                     \t GPA: 4.40 | 22 points -> {'FMA': 'B', 'PMM': 'A', 'PHY': 'B', 'BIO': 'A', 'CHE': 'B'}\n",
      "\t TATUH ALEMAJOH ATEM FORMIN     \t GPA: 4.40 | 22 points -> {'PHY': 'C', 'PMM': 'A', 'ICT': 'B', 'CHE': 'A', 'BIO': 'A'}\n",
      "\t NGOASONG EMESONG NGUATEM       \t GPA: 4.40 | 22 points -> {'BIO': 'A', 'PMM': 'A', 'CHE': 'B', 'PHY': 'B', 'ICT': 'B'}\n",
      "\t ZIFAC RAISSA EDONGAFAC         \t GPA: 4.40 | 22 points -> {'BIO': 'A', 'CHE': 'B', 'PMM': 'A', 'PHY': 'B', 'FMA': 'B'}\n",
      "\t KANYIMI WAMBONG HILARY         \t GPA: 4.40 | 22 points -> {'CHE': 'B', 'PMM': 'A', 'PHY': 'C', 'BIO': 'A', 'FMA': 'A'}\n",
      "\t MBAKU HENRIETTA ENJEI          \t GPA: 4.40 | 22 points -> {'BIO': 'A', 'CHE': 'A', 'FMA': 'C', 'PMM': 'A', 'PHY': 'B'}\n",
      "\t GERMAIN ALANG KELLY            \t GPA: 4.40 | 22 points -> {'CHE': 'A', 'PMM': 'A', 'FMA': 'B', 'PHY': 'A', 'ICT': 'C'}\n",
      "\t NJOMASOH MILTON AMBE           \t GPA: 4.40 | 22 points -> {'PHI': 'B', 'GEO': 'A', 'ECO': 'A', 'HIS': 'B', 'ENG': 'B'}\n",
      "\t NOUMBISSI KUITCHE STAEL ERVANE \t GPA: 4.40 | 22 points -> {'BIO': 'A', 'CHE': 'D', 'PMM': 'A', 'FMA': 'A', 'PHY': 'A'}\n",
      "\t WEMBE KOUDJOU FRANKLIN STEVE   \t GPA: 4.40 | 22 points -> {'BIO': 'A', 'CHE': 'C', 'PMM': 'A', 'FMA': 'B', 'PHY': 'A'}\n",
      "\t KAMJOM ATELEFEH GRAZIELLA      \t GPA: 4.40 | 22 points -> {'BIO': 'A', 'CHE': 'C', 'PMM': 'A', 'FMA': 'A', 'PHY': 'B'}\n",
      "\t DASSI YOUMBI MANOEL JORDAN     \t GPA: 4.40 | 22 points -> {'BIO': 'B', 'CHE': 'A', 'PMM': 'A', 'PHY': 'B', 'FMA': 'B'}\n",
      "\t NKIASEH NGOMBE GODS GIFT       \t GPA: 4.40 | 22 points -> {'BIO': 'A', 'PMM': 'A', 'CHE': 'B', 'FMA': 'C', 'PHY': 'A'}\n",
      "\t TAMO BRENDITELMA NAMAM         \t GPA: 4.40 | 22 points -> {'ICT': 'C', 'ECO': 'A', 'ENG': 'B', 'HIS': 'A', 'GEO': 'A'}\n",
      "\t KOUATCHOUA KAMDA CYRIAL        \t GPA: 4.40 | 22 points -> {'PMM': 'A', 'CSC': 'C', 'CHE': 'B', 'FMA': 'A', 'PHY': 'A'}\n",
      "\t JONG COURAGE TANYI JONG        \t GPA: 4.40 | 22 points -> {'PMM': 'A', 'FMA': 'C', 'PHY': 'B', 'BIO': 'A', 'CHE': 'A'}\n",
      "\t TAMNGWA SENIOR TANTO           \t GPA: 4.40 | 22 points -> {'BIO': 'A', 'PMM': 'A', 'CHE': 'B', 'FMA': 'B', 'PHY': 'B'}\n",
      "\t DONHOU KOUAMOU HERMAN          \t GPA: 4.40 | 22 points -> {'CHE': 'B', 'PHY': 'A', 'BIO': 'C', 'PMM': 'A', 'FMA': 'A'}\n",
      "\t WIRNGO RAIMA                   \t GPA: 4.40 | 22 points -> {'FMA': 'B', 'PHY': 'B', 'BIO': 'B', 'CHE': 'A', 'PMM': 'A'}\n",
      "\t OBEN AYUK GILBERT ABUNAW       \t GPA: 4.40 | 22 points -> {'CHE': 'A', 'PMS': 'A', 'FMA': 'B', 'BIO': 'B', 'PHY': 'B'}\n",
      "\t ASONGANYI ROUCLEC FORSAMP ANYA \t GPA: 4.40 | 22 points -> {'FMA': 'A', 'PHY': 'B', 'CHE': 'A', 'PMM': 'A', 'ICT': 'C'}\n",
      "\t ACHA GOLDER ANGWE              \t GPA: 4.40 | 22 points -> {'BIO': 'A', 'CHE': 'B', 'PMM': 'A', 'FMA': 'B', 'PHY': 'B'}\n",
      "\t TAJOUEGO MEDIDJOU SEGOLENE GER \t GPA: 4.40 | 22 points -> {'BIO': 'A', 'CHE': 'C', 'PMM': 'A', 'FMA': 'A', 'PHY': 'B'}\n",
      "\t YILA ROY NGAH                  \t GPA: 4.40 | 22 points -> {'BIO': 'B', 'PMM': 'A', 'CHE': 'A', 'FMA': 'C', 'PHY': 'A'}\n",
      "\t KOBLA ASANJI GUEVARA           \t GPA: 4.40 | 22 points -> {'PHY': 'A', 'BIO': 'B', 'CHE': 'C', 'PMM': 'A', 'FMA': 'A'}\n",
      "\t KENNE KOUDJOU SANDRA           \t GPA: 4.40 | 22 points -> {'BIO': 'B', 'CHE': 'C', 'PMM': 'A', 'FMA': 'A', 'PHY': 'A'}\n",
      "\t FOINDING BOGNE AXEL JASON      \t GPA: 4.40 | 22 points -> {'BIO': 'B', 'FMA': 'C', 'PHY': 'A', 'CHE': 'A', 'PMM': 'A'}\n",
      "\t TSAMO TSOBZE DOUNIA NELLY      \t GPA: 4.40 | 22 points -> {'BIO': 'B', 'CHE': 'A', 'PMM': 'A', 'PHY': 'B', 'FMA': 'B'}\n",
      "\t ABIA GERMAIN NTUH ABA          \t GPA: 4.40 | 22 points -> {'CHE': 'A', 'PHY': 'B', 'PMM': 'A', 'BIO': 'A', 'FMA': 'C'}\n",
      "\t MEPIYOU WANDJI ROYE PERIN      \t GPA: 4.40 | 22 points -> {'BIO': 'A', 'CHE': 'C', 'PMM': 'A', 'FMA': 'B', 'PHY': 'A'}\n",
      "\t NGWESE RICHMOS NGWESE          \t GPA: 4.40 | 22 points -> {'PHY': 'A', 'BIO': 'B', 'CHE': 'B', 'PMM': 'A', 'FMA': 'B'}\n",
      "\t ANTHONY MONTHE JIOKAP NONO     \t GPA: 4.40 | 22 points -> {'PMM': 'A', 'FMA': 'A', 'CSC': 'C', 'CHE': 'A', 'PHY': 'B'}\n",
      "\t AWE RAOUL                      \t GPA: 4.40 | 22 points -> {'CHE': 'B', 'PMM': 'A', 'FMA': 'A', 'PHY': 'A', 'CSC': 'C'}\n",
      "\t TENENG BRISTINE MULUH          \t GPA: 4.40 | 22 points -> {'BIO': 'B', 'CHE': 'A', 'PMM': 'A', 'FMA': 'B', 'PHY': 'B'}\n",
      "\t NDI AFUH TELANO                \t GPA: 4.40 | 22 points -> {'BIO': 'A', 'CHE': 'A', 'PMM': 'A', 'FMA': 'C', 'PHY': 'B'}\n",
      "\t MAMA YEMELI AMADOU RUFIN       \t GPA: 4.40 | 22 points -> {'PHY': 'A', 'FMA': 'A', 'PMM': 'A', 'CHE': 'B', 'BIO': 'C'}\n",
      "\t KUETCHE NGUEDIA YVAN CLAUDEL   \t GPA: 4.40 | 22 points -> {'FMA': 'B', 'PHY': 'A', 'CHE': 'A', 'PMM': 'A', 'ICT': 'C'}\n"
     ]
    }
   ],
   "source": [
    "## All 22 points candidates\n",
    "\n",
    "print(f\"Total {grade_distribution[22].count} candidates with 22 points\")\n",
    "print(f\"Candidates with 22 points(top {top_n_percent(grade_distribution, 22):.2f}%):\")\n",
    "for candidate in grade_distribution[22].names:\n",
    "    print(\"\\t\", return_first_n_chars_or_fill_with_spaces(candidate), \"\\t\",  dict_candidates[candidate])"
   ]
  },
  {
   "cell_type": "code",
   "execution_count": 72,
   "metadata": {},
   "outputs": [
    {
     "name": "stdout",
     "output_type": "stream",
     "text": [
      "Total 78 candidates with 21 points\n",
      "Candidates with 21 points(top 0.69%):\n",
      "\t THOM GUEMTO SINCLAIR           \t GPA: 4.20 | 21 points -> {'PHY': 'B', 'FMA': 'C', 'PMM': 'A', 'CHE': 'B', 'BIO': 'A'}\n",
      "\t TIKOU DJUIFFO YVANNA           \t GPA: 4.20 | 21 points -> {'PHY': 'B', 'FMA': 'A', 'PMM': 'A', 'CHE': 'C', 'BIO': 'B'}\n",
      "\t FINDO PETER KAMPETE            \t GPA: 4.20 | 21 points -> {'PMM': 'A', 'PHY': 'B', 'BIO': 'B', 'CHE': 'B', 'FMA': 'B'}\n",
      "\t BENI SONITA NYANG              \t GPA: 4.20 | 21 points -> {'CHE': 'A', 'FMA': 'B', 'PHY': 'B', 'BIO': 'A', 'PMM': 'C'}\n",
      "\t VALENTINA WALTERS NING TEBOH   \t GPA: 4.20 | 21 points -> {'CHE': 'B', 'PMM': 'A', 'BIO': 'A', 'FMA': 'C', 'PHY': 'B'}\n",
      "\t OBEN TABENDIP TABIAYUK         \t GPA: 4.20 | 21 points -> {'PMM': 'A', 'FMA': 'A', 'PHY': 'B', 'CSC': 'C', 'CHE': 'B'}\n",
      "\t FOSSUNG SHALOM ABON            \t GPA: 4.20 | 21 points -> {'BIO': 'A', 'CHE': 'B', 'PMM': 'A', 'FMA': 'C', 'PHY': 'B'}\n",
      "\t NCHENDIA JOEL ABUNGABEOH       \t GPA: 4.20 | 21 points -> {'CHE': 'D', 'BIO': 'A', 'PMM': 'A', 'FMA': 'A', 'PHY': 'B'}\n",
      "\t SOFE RASHEL TANTOH             \t GPA: 4.20 | 21 points -> {'BIO': 'B', 'CHE': 'A', 'PMM': 'A', 'FMA': 'B', 'PHY': 'C'}\n",
      "\t MIH BRANDON EDENG              \t GPA: 4.20 | 21 points -> {'BIO': 'A', 'CHE': 'B', 'PMM': 'A', 'FMA': 'C', 'PHY': 'B'}\n",
      "\t SIMO VERONIQUE TCHAMBOU MELO   \t GPA: 4.20 | 21 points -> {'BIO': 'B', 'CHE': 'A', 'PMM': 'A', 'PHY': 'C', 'FMA': 'B'}\n",
      "\t ETIM BRYNE EDO                 \t GPA: 4.20 | 21 points -> {'BIO': 'B', 'CHE': 'B', 'PMM': 'A', 'FMA': 'C', 'PHY': 'A'}\n",
      "\t UMENJOH EMMANUEL GLEN          \t GPA: 4.20 | 21 points -> {'ECO': 'A', 'GEO': 'B', 'HIS': 'D', 'REL': 'A', 'PHI': 'A'}\n",
      "\t DAVID LEKEALEM ANU FORTABOH    \t GPA: 4.20 | 21 points -> {'BIO': 'A', 'CHE': 'B', 'PMM': 'A', 'FMA': 'C', 'PHY': 'B'}\n",
      "\t NGONGANG NGUECHO MELISA CARBEL \t GPA: 4.20 | 21 points -> {'FMA': 'B', 'PHY': 'A', 'BIO': 'A', 'CHE': 'D', 'PMM': 'A'}\n",
      "\t IFANG SOLOMON NDIFON           \t GPA: 4.20 | 21 points -> {'CHE': 'C', 'BIO': 'B', 'FMA': 'B', 'PHY': 'A', 'PMM': 'A'}\n",
      "\t EDJANE ATANGANA ESSOMBA MEGANE \t GPA: 4.20 | 21 points -> {'CHE': 'B', 'PHY': 'B', 'PMM': 'A', 'GGY': 'A', 'BIO': 'C'}\n",
      "\t FONDOP TENE NOE OTHNIEL        \t GPA: 4.20 | 21 points -> {'PMM': 'A', 'PHY': 'B', 'CHE': 'A', 'BIO': 'B', 'FMA': 'C'}\n",
      "\t FON REDANIOS NGUH              \t GPA: 4.20 | 21 points -> {'BIO': 'A', 'CHE': 'B', 'FSN': 'A', 'PMS': 'B', 'PHY': 'C'}\n",
      "\t TUME CADELL GRIFFITH MBIYDZENY \t GPA: 4.20 | 21 points -> {'PMM': 'A', 'FMA': 'A', 'PHY': 'A', 'CSC': 'C', 'CHE': 'C'}\n",
      "\t FONYUY GILFORD                 \t GPA: 4.20 | 21 points -> {'PHY': 'A', 'BIO': 'A', 'CHE': 'B', 'PMM': 'B', 'CSC': 'C'}\n",
      "\t MBIYDZENYUY RONARLD BINTAR     \t GPA: 4.20 | 21 points -> {'FMA': 'A', 'BIO': 'B', 'CHE': 'C', 'PMM': 'A', 'PHY': 'B'}\n",
      "\t NGOH RODNEY AMAH               \t GPA: 4.20 | 21 points -> {'PHY': 'B', 'BIO': 'A', 'CHE': 'B', 'PMM': 'A', 'CSC': 'C'}\n",
      "\t FOMBE SYLVIA NGUM              \t GPA: 4.20 | 21 points -> {'CHE': 'A', 'PMM': 'A', 'PHY': 'C', 'BIO': 'B', 'FMA': 'B'}\n",
      "\t ATEH MIRIAM CHE MOMFOR         \t GPA: 4.20 | 21 points -> {'PMM': 'A', 'BIO': 'B', 'CHE': 'A', 'FMA': 'C', 'PHY': 'B'}\n",
      "\t NGEH AMOS TIMATANG             \t GPA: 4.20 | 21 points -> {'BIO': 'A', 'CHE': 'A', 'PMM': 'A', 'CSC': 'C', 'PHY': 'C'}\n",
      "\t SAMUEL NKWINDJA TCHA           \t GPA: 4.20 | 21 points -> {'CHE': 'D', 'PMM': 'A', 'FMA': 'B', 'PHY': 'A', 'BIO': 'A'}\n",
      "\t NGEMOH MBONIE PRAISE           \t GPA: 4.20 | 21 points -> {'PMM': 'A', 'ICT': 'B', 'CHE': 'B', 'FMA': 'C', 'PHY': 'A'}\n",
      "\t OGBU CHUKWUDI STEPHANE         \t GPA: 4.20 | 21 points -> {'PHY': 'B', 'FMA': 'B', 'BIO': 'B', 'CHE': 'B', 'PMM': 'A'}\n",
      "\t TAMBE NSO JOHNSON II           \t GPA: 4.20 | 21 points -> {'BIO': 'B', 'CHE': 'C', 'PMM': 'A', 'FMA': 'B', 'PHY': 'A'}\n",
      "\t MANDA NYIEZI NIXON             \t GPA: 4.20 | 21 points -> {'BIO': 'A', 'CHE': 'C', 'PMM': 'A', 'FMA': 'B', 'PHY': 'B'}\n",
      "\t NJAPNDOUNKE MESMER DALIDA      \t GPA: 4.20 | 21 points -> {'BIO': 'B', 'FMA': 'B', 'PHY': 'B', 'CHE': 'B', 'PMM': 'A'}\n",
      "\t TCHUINDJANG KWATCHIE DIMITRI V \t GPA: 4.20 | 21 points -> {'BIO': 'B', 'CHE': 'B', 'PMM': 'B', 'FMA': 'B', 'PHY': 'A'}\n",
      "\t ATEMAFAC HARIS FOLEFO          \t GPA: 4.20 | 21 points -> {'FRE': 'C', 'GEO': 'B', 'ENG': 'A', 'PMS': 'B', 'ECO': 'A'}\n",
      "\t NGUEHOU KAMENI CHARDIN         \t GPA: 4.20 | 21 points -> {'PMM': 'A', 'BIO': 'C', 'FMA': 'A', 'PHY': 'B', 'CHE': 'B'}\n",
      "\t NYANGA BRUNA AKWI              \t GPA: 4.20 | 21 points -> {'PHY': 'A', 'PMM': 'A', 'BIO': 'B', 'FMA': 'C', 'CHE': 'B'}\n",
      "\t ANYE RANDY NSOH                \t GPA: 4.20 | 21 points -> {'BIO': 'B', 'CHE': 'A', 'PMM': 'A', 'FMA': 'C', 'PHY': 'B'}\n",
      "\t AZAMO DJOUKENG JOEL JORDAN     \t GPA: 4.20 | 21 points -> {'CHE': 'A', 'PMM': 'A', 'PHY': 'B', 'BIO': 'C', 'FMA': 'B'}\n",
      "\t CHEGNO TALLA MURIELLE DAMARICE \t GPA: 4.20 | 21 points -> {'PMM': 'A', 'PHY': 'C', 'BIO': 'A', 'CHE': 'B', 'FMA': 'B'}\n",
      "\t MBINCHO JOSEPH FORBAH          \t GPA: 4.20 | 21 points -> {'BIO': 'B', 'CHE': 'B', 'PMM': 'A', 'PHY': 'C', 'FMA': 'A'}\n",
      "\t SHUTANG NKWANUI                \t GPA: 4.20 | 21 points -> {'BIO': 'B', 'CHE': 'A', 'PMM': 'A', 'PHY': 'B', 'ICT': 'C'}\n",
      "\t TSHEH WALID NGU                \t GPA: 4.20 | 21 points -> {'BIO': 'C', 'CHE': 'B', 'PMM': 'A', 'FMA': 'B', 'PHY': 'A'}\n",
      "\t NGI KEVIN AYUK                 \t GPA: 4.20 | 21 points -> {'FMA': 'B', 'BIO': 'B', 'CHE': 'C', 'PMM': 'A', 'PHY': 'A'}\n",
      "\t KAJETAN ELABA FOMANKA          \t GPA: 4.20 | 21 points -> {'BIO': 'B', 'CHE': 'C', 'PMM': 'A', 'FMA': 'A', 'PHY': 'B'}\n",
      "\t NEBOT FONKOU CHRISTIAN PARFAIT \t GPA: 4.20 | 21 points -> {'BIO': 'A', 'CHE': 'A', 'PMM': 'A', 'PHY': 'B', 'CSC': 'D'}\n",
      "\t MBATU ESELAKWE EMILE FORKUCK   \t GPA: 4.20 | 21 points -> {'GEO': 'C', 'HIS': 'B', 'ECO': 'A', 'REL': 'A', 'ICT': 'B'}\n",
      "\t NDILLE MAGDALENE NTUBE         \t GPA: 4.20 | 21 points -> {'PHY': 'B', 'BIO': 'A', 'CHE': 'A', 'PMM': 'B', 'FMA': 'C'}\n",
      "\t TESSOH FONGOU ALEX STEVE       \t GPA: 4.20 | 21 points -> {'BIO': 'A', 'CHE': 'B', 'FMA': 'B', 'PHY': 'C', 'PMM': 'A'}\n",
      "\t HOLDERBAUM ONDOUA PAUL GREGOR  \t GPA: 4.20 | 21 points -> {'PHY': 'A', 'CSC': 'C', 'PMM': 'A', 'FMA': 'B', 'CHE': 'B'}\n",
      "\t TANGHANG ELVIS TATA            \t GPA: 4.20 | 21 points -> {'PHY': 'B', 'CHE': 'B', 'FMA': 'B', 'BIO': 'B', 'PMM': 'A'}\n",
      "\t NUNJA NEMY ROSA NANA           \t GPA: 4.20 | 21 points -> {'LIT': 'C', 'ECO': 'A', 'ENG': 'A', 'FRE': 'B', 'HIS': 'B'}\n",
      "\t LAMBOWO DONGMO CHARLEINE LAURE \t GPA: 4.20 | 21 points -> {'PHY': 'C', 'CHE': 'A', 'PMM': 'A', 'FMA': 'B', 'BIO': 'B'}\n",
      "\t ABANG MBONG FAITH TIMOH        \t GPA: 4.20 | 21 points -> {'HIS': 'A', 'ECO': 'A', 'LIT': 'E', 'REL': 'A', 'PHI': 'A'}\n",
      "\t KENMOGNE TAGNE CYNTHIA NATACHA \t GPA: 4.20 | 21 points -> {'PHY': 'A', 'FMA': 'C', 'PMM': 'A', 'CHE': 'B', 'BIO': 'B'}\n",
      "\t NGALA THIERRY TALLA            \t GPA: 4.20 | 21 points -> {'PHY': 'B', 'FMA': 'C', 'PMM': 'A', 'CHE': 'A', 'BIO': 'B'}\n",
      "\t MENGNJO TATIANA BERINYUY       \t GPA: 4.20 | 21 points -> {'PHI': 'A', 'ECO': 'A', 'GEO': 'B', 'ICT': 'C', 'PMS': 'B'}\n",
      "\t NGANDJON TATSADJIEU YANNICK YV \t GPA: 4.20 | 21 points -> {'PHY': 'A', 'CSC': 'D', 'CHE': 'B', 'PMM': 'A', 'FMA': 'A'}\n",
      "\t DJOUMESSI FREDERIC MARCELLIN   \t GPA: 4.20 | 21 points -> {'BIO': 'A', 'PMM': 'A', 'PHY': 'B', 'FMA': 'C', 'CHE': 'B'}\n",
      "\t TOHNAIN CLINTON CHIAMBAH MARK  \t GPA: 4.20 | 21 points -> {'BIO': 'A', 'CHE': 'E', 'PMM': 'A', 'FMA': 'A', 'PHY': 'A'}\n",
      "\t VEKWUSI JUNIOR BLAISE          \t GPA: 4.20 | 21 points -> {'CHE': 'C', 'PHY': 'A', 'PMM': 'A', 'FMA': 'B', 'ICT': 'B'}\n",
      "\t TAMO NGUEYI JOSIAS CLAUDEL     \t GPA: 4.20 | 21 points -> {'BIO': 'B', 'CHE': 'B', 'PMM': 'A', 'PHY': 'B', 'FMA': 'B'}\n",
      "\t MINANDI BOUGOLLA RIVALDO       \t GPA: 4.20 | 21 points -> {'CHE': 'B', 'BIO': 'A', 'PHY': 'B', 'PMM': 'A', 'FMA': 'C'}\n",
      "\t LEBSEY PETMIA LEBAGA KILLA     \t GPA: 4.20 | 21 points -> {'FMA': 'B', 'BIO': 'A', 'CHE': 'B', 'PHY': 'B', 'PMM': 'B'}\n",
      "\t AKANWUH LAWRA MBICHELE         \t GPA: 4.20 | 21 points -> {'BIO': 'B', 'CHE': 'A', 'FMA': 'B', 'PMM': 'A', 'PHY': 'C'}\n",
      "\t PONE TCHOM STEPHY HILARY       \t GPA: 4.20 | 21 points -> {'BIO': 'B', 'CHE': 'B', 'PMM': 'A', 'PHY': 'A', 'ICT': 'C'}\n",
      "\t KINSLEY BUDU BOAFO             \t GPA: 4.20 | 21 points -> {'PHY': 'B', 'FMA': 'C', 'PMM': 'A', 'CHE': 'B', 'BIO': 'A'}\n",
      "\t ZAMBOU JODINE MARIAME          \t GPA: 4.20 | 21 points -> {'PMM': 'A', 'BIO': 'A', 'PHY': 'C', 'FMA': 'B', 'CHE': 'B'}\n",
      "\t ANGUNTUGSIRI LUCIA CHEBI       \t GPA: 4.20 | 21 points -> {'CHE': 'C', 'BIO': 'A', 'PHY': 'B', 'PMM': 'A', 'FMA': 'B'}\n",
      "\t WANCHI MANASSEH JOEL SHING     \t GPA: 4.20 | 21 points -> {'ICT': 'A', 'PMM': 'B', 'CHE': 'C', 'BIO': 'A', 'PHY': 'B'}\n",
      "\t EBWEKWENE AKAME MARTIN         \t GPA: 4.20 | 21 points -> {'PHY': 'B', 'FMA': 'B', 'CHE': 'B', 'BIO': 'B', 'PMM': 'A'}\n",
      "\t POUWAWE GUEPHIGUE STEVE VANDRO \t GPA: 4.20 | 21 points -> {'BIO': 'C', 'PMM': 'A', 'PHY': 'B', 'CHE': 'B', 'FMA': 'A'}\n",
      "\t SONGBI CYRIA SAHKAIN           \t GPA: 4.20 | 21 points -> {'BIO': 'A', 'PMM': 'A', 'FMA': 'B', 'PHY': 'B', 'CHE': 'C'}\n",
      "\t BLESSING ATEM MUKETE           \t GPA: 4.20 | 21 points -> {'PHI': 'A', 'HIS': 'A', 'LIT': 'E', 'ENG': 'A', 'ECO': 'A'}\n",
      "\t TIMTI HANSON SONG              \t GPA: 4.20 | 21 points -> {'PMM': 'A', 'CHE': 'C', 'BIO': 'A', 'PHY': 'C', 'FMA': 'A'}\n",
      "\t NLEM EBO O CYRILLE ARNOLD      \t GPA: 4.20 | 21 points -> {'PHY': 'B', 'FMA': 'A', 'BIO': 'C', 'PMM': 'A', 'CHE': 'B'}\n",
      "\t NDJAYO MOUNCHAROU LOIC MELVIN  \t GPA: 4.20 | 21 points -> {'BIO': 'B', 'CHE': 'B', 'FMA': 'B', 'PHY': 'B', 'PMM': 'A'}\n",
      "\t FOMBUTU KILLIAN WADGUA         \t GPA: 4.20 | 21 points -> {'PMM': 'A', 'FMA': 'B', 'PHY': 'B', 'BIO': 'B', 'CHE': 'B'}\n",
      "\t AMBE HARRISON                  \t GPA: 4.20 | 21 points -> {'BIO': 'B', 'CHE': 'A', 'PMM': 'A', 'FMA': 'C', 'PHY': 'B'}\n"
     ]
    }
   ],
   "source": [
    "## All 21 points candidates\n",
    "\n",
    "print(f\"Total {grade_distribution[21].count} candidates with 21 points\")\n",
    "print(f\"Candidates with 21 points(top {top_n_percent(grade_distribution, 21):.2f}%):\")\n",
    "for candidate in grade_distribution[21].names:\n",
    "    print(\"\\t\", return_first_n_chars_or_fill_with_spaces(candidate), \"\\t\",  dict_candidates[candidate])"
   ]
  },
  {
   "cell_type": "code",
   "execution_count": 73,
   "metadata": {},
   "outputs": [
    {
     "name": "stdout",
     "output_type": "stream",
     "text": [
      "Total 99 candidates with 20 points\n",
      "Candidates with 20 points(top 0.97%):\n",
      "\t ATEMAFAC TENDEM                \t GPA: 4.00 | 20 points -> {'BIO': 'B', 'CHE': 'B', 'PMM': 'B', 'FMA': 'B', 'PHY': 'B'}\n",
      "\t NGOUMOU TITUS YANNICK          \t GPA: 4.00 | 20 points -> {'PHY': 'C', 'FMA': 'B', 'PMM': 'A', 'CHE': 'C', 'BIO': 'A'}\n",
      "\t WETKA TCHOUPE ULRICH PARFAIT L \t GPA: 4.00 | 20 points -> {'PMM': 'A', 'PHY': 'B', 'FMA': 'C', 'CHE': 'B', 'BIO': 'B'}\n",
      "\t AZAMBOU NDONGMO JOHAN ARSENE   \t GPA: 4.00 | 20 points -> {'CHE': 'C', 'PMM': 'A', 'FMA': 'A', 'PHY': 'A', 'CSC': 'D'}\n",
      "\t BEBONGCHU ATEMKENG BELTUS      \t GPA: 5.00 | 20 points -> {'BIO': 'A', 'PMM': 'A', 'FMA': 'A', 'PHY': 'A'}\n",
      "\t ZOFOA SMITH NTOHTEWO           \t GPA: 4.00 | 20 points -> {'PMM': 'A', 'FMA': 'B', 'PHY': 'A', 'CHE': 'A', 'CSC': 'E'}\n",
      "\t NJOKOM ALAIN JUNIOR NSHANUI    \t GPA: 4.00 | 20 points -> {'CHE': 'C', 'PHY': 'B', 'PMM': 'A', 'CSC': 'B', 'FMA': 'B'}\n",
      "\t PRECIOUS AKAPETA EPOHARA OBEN  \t GPA: 4.00 | 20 points -> {'BIO': 'A', 'CHE': 'A', 'PMM': 'B', 'ICT': 'C', 'PHY': 'C'}\n",
      "\t MALEGHO CHELSIE JOMSENTUH      \t GPA: 4.00 | 20 points -> {'BIO': 'C', 'CHE': 'A', 'PMM': 'A', 'FMA': 'B', 'PHY': 'C'}\n",
      "\t TATA DANIEL NFOR               \t GPA: 4.00 | 20 points -> {'BIO': 'A', 'CHE': 'E', 'PMM': 'A', 'FMA': 'A', 'PHY': 'B'}\n",
      "\t TATA ELISHA EBSIY              \t GPA: 4.00 | 20 points -> {'BIO': 'A', 'CHE': 'E', 'PMM': 'A', 'FMA': 'B', 'PHY': 'A'}\n",
      "\t AKEM ACHA CHESED NSOKIKA       \t GPA: 4.00 | 20 points -> {'BIO': 'C', 'CHE': 'B', 'PMM': 'A', 'FMA': 'C', 'PHY': 'A'}\n",
      "\t ANIGBAH CLOVIS CHO             \t GPA: 4.00 | 20 points -> {'BIO': 'A', 'PMM': 'B', 'FMA': 'C', 'PHY': 'C', 'CHE': 'A'}\n",
      "\t NOTIO LONTSIE ZIDANE LENAIK    \t GPA: 4.00 | 20 points -> {'PHY': 'B', 'PMM': 'A', 'CHE': 'C', 'FMA': 'B', 'BIO': 'B'}\n",
      "\t SOKAMTE NEBRASKA               \t GPA: 4.00 | 20 points -> {'BIO': 'C', 'CHE': 'C', 'PMM': 'A', 'FMA': 'B', 'PHY': 'A'}\n",
      "\t GOUNTAE JU NIOR FRANKLIN       \t GPA: 4.00 | 20 points -> {'BIO': 'C', 'CHE': 'A', 'PMM': 'A', 'PHY': 'B', 'CSC': 'C'}\n",
      "\t TCHAMNA FRANKLINE AURELLE      \t GPA: 4.00 | 20 points -> {'CHE': 'B', 'PMM': 'A', 'BIO': 'B', 'FMA': 'C', 'PHY': 'B'}\n",
      "\t SONGA MPOKO TITI DOWEL PRIMAEL \t GPA: 4.00 | 20 points -> {'BIO': 'D', 'PMM': 'A', 'PHY': 'B', 'CHE': 'A', 'FMA': 'B'}\n",
      "\t DEMBENG ANOUNIBOM CAROLINE     \t GPA: 4.00 | 20 points -> {'ENG': 'C', 'PMS': 'C', 'ICT': 'B', 'ECO': 'A', 'GEO': 'A'}\n",
      "\t NGAFE SAMO YVAN WONDERS        \t GPA: 4.00 | 20 points -> {'BIO': 'A', 'CHE': 'B', 'PMM': 'A', 'PHY': 'A', 'FMA': 'E'}\n",
      "\t NKWAIN GAIUS AFUMBOM           \t GPA: 4.00 | 20 points -> {'CSC': 'C', 'PHY': 'A', 'FMA': 'B', 'PMM': 'A', 'CHE': 'C'}\n",
      "\t FOMEKONG ZEBAZE LEONEL BRICE   \t GPA: 4.00 | 20 points -> {'BIO': 'B', 'CHE': 'B', 'PMM': 'A', 'FMA': 'C', 'PHY': 'B'}\n",
      "\t SUNJO BERINYUY SANDRA WOLA     \t GPA: 4.00 | 20 points -> {'BIO': 'B', 'FMA': 'D', 'CHE': 'B', 'PMM': 'A', 'PHY': 'A'}\n",
      "\t NOUAFFO TEHEM STEPHANE         \t GPA: 4.00 | 20 points -> {'FMA': 'B', 'PHY': 'A', 'BIO': 'C', 'CHE': 'C', 'PMM': 'A'}\n",
      "\t NOUTA MATHILDE STELLA          \t GPA: 4.00 | 20 points -> {'BIO': 'A', 'CSC': 'C', 'CHE': 'B', 'PMM': 'B', 'PHY': 'B'}\n",
      "\t KOUDOUM FOHOUE PATRICE LANDRY  \t GPA: 5.00 | 20 points -> {'CHE': 'A', 'BIO': 'A', 'PHY': 'A', 'GGY': 'A'}\n",
      "\t DONGMO EMILE PEGUY             \t GPA: 5.00 | 20 points -> {'PMM': 'A', 'FMA': 'A', 'CHE': 'A', 'PHY': 'A'}\n",
      "\t VICTOR FONYUY                  \t GPA: 4.00 | 20 points -> {'FMA': 'B', 'PHY': 'B', 'CHE': 'C', 'BIO': 'B', 'PMM': 'A'}\n",
      "\t MEWUNG KELLY AKANA             \t GPA: 4.00 | 20 points -> {'CHE': 'C', 'PMS': 'A', 'FMA': 'B', 'PHY': 'C', 'BIO': 'A'}\n",
      "\t CHINEMEZU DIVINE AGWUNEDU      \t GPA: 4.00 | 20 points -> {'CHE': 'B', 'PHY': 'C', 'BIO': 'A', 'FSN': 'A', 'PMS': 'C'}\n",
      "\t BIH EMMACULATE CHE             \t GPA: 4.00 | 20 points -> {'ECO': 'A', 'ENG': 'A', 'LIT': 'C', 'HIS': 'A', 'ICT': 'D'}\n",
      "\t MBEUFFO MEGAPTCHE MARCELLE LET \t GPA: 4.00 | 20 points -> {'BIO': 'B', 'PMS': 'A', 'PHY': 'C', 'CHE': 'A', 'ICT': 'C'}\n",
      "\t ATU BRANDON RINGNUH            \t GPA: 4.00 | 20 points -> {'BIO': 'B', 'CHE': 'C', 'PMM': 'A', 'PHY': 'B', 'ICT': 'B'}\n",
      "\t NKEM AZIENWI NKENG             \t GPA: 4.00 | 20 points -> {'PHY': 'C', 'BIO': 'A', 'CHE': 'A', 'PMM': 'B', 'FMA': 'C'}\n",
      "\t TAMBE DAVID TIPAH              \t GPA: 4.00 | 20 points -> {'BIO': 'B', 'CHE': 'B', 'FSN': 'A', 'PMS': 'B', 'ICT': 'C'}\n",
      "\t FOVER OLIVE SHIYNYUY           \t GPA: 5.00 | 20 points -> {'CHE': 'A', 'PHY': 'A', 'FMA': 'A', 'PMM': 'A'}\n",
      "\t TEBOH TINA KAH                 \t GPA: 4.00 | 20 points -> {'BIO': 'B', 'CHE': 'B', 'PMS': 'B', 'PHY': 'A', 'ICT': 'C'}\n",
      "\t NGUEGUIM ZOFOU GERRY BRUNEL    \t GPA: 4.00 | 20 points -> {'FMA': 'C', 'BIO': 'B', 'CHE': 'A', 'PMM': 'B', 'PHY': 'B'}\n",
      "\t POUEMIN FONKOU HILL DE GARDE   \t GPA: 4.00 | 20 points -> {'BIO': 'A', 'CHE': 'B', 'FMA': 'C', 'PHY': 'C', 'PMM': 'A'}\n",
      "\t PIDJOU KAMGANG KEVINE BOSCO    \t GPA: 4.00 | 20 points -> {'BIO': 'A', 'PMM': 'A', 'FMA': 'A', 'CHE': 'D', 'PHY': 'C'}\n",
      "\t TIOGO GILLES STEVE             \t GPA: 4.00 | 20 points -> {'BIO': 'A', 'CHE': 'E', 'PMM': 'A', 'FMA': 'B', 'PHY': 'A'}\n",
      "\t MENGNJO GISELE AFONI           \t GPA: 5.00 | 20 points -> {'BIO': 'A', 'PMM': 'A', 'FMA': 'A', 'PHY': 'A'}\n",
      "\t JIOKENG TCHINDA GEODEL ALIDA   \t GPA: 4.00 | 20 points -> {'CSC': 'C', 'BIO': 'A', 'CHE': 'C', 'PMM': 'A', 'PHY': 'B'}\n",
      "\t CHE FOHNYI OSWALD              \t GPA: 5.00 | 20 points -> {'BIO': 'A', 'PHY': 'A', 'PMM': 'A', 'FMA': 'A'}\n",
      "\t TUMI VALERY NYUYKONGE          \t GPA: 4.00 | 20 points -> {'BIO': 'B', 'CHE': 'C', 'PMM': 'A', 'PHY': 'B', 'FMA': 'B'}\n",
      "\t MBABID ERIC NYA                \t GPA: 4.00 | 20 points -> {'CHE': 'A', 'BIO': 'B', 'PMM': 'B', 'ICT': 'B', 'PHY': 'C'}\n",
      "\t CHI SANDRA ASOH                \t GPA: 4.00 | 20 points -> {'FMA': 'D', 'BIO': 'A', 'PHY': 'A', 'CHE': 'C', 'PMM': 'A'}\n",
      "\t DAGA MIRANDA ANDONG            \t GPA: 4.00 | 20 points -> {'CHE': 'B', 'FSN': 'A', 'BIO': 'A', 'PMS': 'A', 'PHY': 'E'}\n",
      "\t ACHO JENNIFER MEFOUMANYI       \t GPA: 4.00 | 20 points -> {'FSN': 'A', 'PMM': 'B', 'CHE': 'C', 'BIO': 'A', 'PHY': 'C'}\n",
      "\t AKAMA MAKIA EMMANUEL           \t GPA: 4.00 | 20 points -> {'CHE': 'B', 'PMM': 'A', 'CSC': 'E', 'FMA': 'A', 'PHY': 'A'}\n",
      "\t MUNGWA MIRIEN NGWATANG         \t GPA: 4.00 | 20 points -> {'CHE': 'C', 'PMM': 'A', 'FMA': 'A', 'PHY': 'C', 'BIO': 'B'}\n",
      "\t TARHEPEY EPEY ELIJAH           \t GPA: 4.00 | 20 points -> {'CHE': 'A', 'PMM': 'A', 'FMA': 'D', 'BIO': 'B', 'PHY': 'B'}\n",
      "\t MIKI DINGANA                   \t GPA: 4.00 | 20 points -> {'CHE': 'B', 'BIO': 'A', 'FMA': 'C', 'PMM': 'A', 'PHY': 'C'}\n",
      "\t NGULEFAC CLINTON NKENGBEZA     \t GPA: 4.00 | 20 points -> {'CHE': 'C', 'PMS': 'A', 'BIO': 'B', 'PHY': 'B', 'ICT': 'B'}\n",
      "\t TAGOULA SOUANFO IVAN JORES     \t GPA: 4.00 | 20 points -> {'CHE': 'B', 'PMM': 'A', 'FMA': 'B', 'PHY': 'C', 'BIO': 'B'}\n",
      "\t NDOH MANKAH RACHAEL            \t GPA: 4.00 | 20 points -> {'BIO': 'A', 'FMA': 'B', 'PHY': 'A', 'PMM': 'A', 'CHE': 'E'}\n",
      "\t NGWA SANDRA NANGA              \t GPA: 4.00 | 20 points -> {'CHE': 'B', 'ICT': 'B', 'BIO': 'B', 'PMS': 'A', 'PHY': 'C'}\n",
      "\t OBEN DESMOND ASHU              \t GPA: 4.00 | 20 points -> {'BIO': 'B', 'FMA': 'C', 'PHY': 'B', 'PMM': 'A', 'CHE': 'B'}\n",
      "\t EGBE EMMANUEL EGBE             \t GPA: 4.00 | 20 points -> {'PMM': 'B', 'BIO': 'B', 'PHY': 'B', 'CHE': 'C', 'FSN': 'A'}\n",
      "\t CHELALIE FOUJEU ROMARIC        \t GPA: 4.00 | 20 points -> {'CHE': 'C', 'FMA': 'B', 'PHY': 'A', 'BIO': 'B', 'PMM': 'B'}\n",
      "\t TUME SHIRLEY LEINYUY           \t GPA: 4.00 | 20 points -> {'BIO': 'B', 'FMA': 'C', 'CHE': 'C', 'PMM': 'A', 'PHY': 'A'}\n",
      "\t SIMO MELVIN GILLIAN            \t GPA: 4.00 | 20 points -> {'CHE': 'C', 'FSN': 'A', 'PHY': 'C', 'BIO': 'B', 'PMM': 'A'}\n",
      "\t NDI JUSTICE GAMNSI             \t GPA: 5.00 | 20 points -> {'BIO': 'A', 'CHE': 'A', 'PMM': 'A', 'PHY': 'A'}\n",
      "\t ALEX MINUIFUONG                \t GPA: 4.00 | 20 points -> {'BIO': 'B', 'CHE': 'C', 'PMM': 'A', 'PHY': 'B', 'FMA': 'B'}\n",
      "\t NGA BLANDINE YAHNYUY           \t GPA: 4.00 | 20 points -> {'FMA': 'C', 'PHY': 'B', 'BIO': 'B', 'CHE': 'A', 'PMM': 'B'}\n",
      "\t TUFOIN DESIRE TIMGUM           \t GPA: 4.00 | 20 points -> {'PHY': 'D', 'PMM': 'B', 'FMA': 'B', 'BIO': 'A', 'CHE': 'A'}\n",
      "\t SHEY CYRILLE NJETA             \t GPA: 4.00 | 20 points -> {'PHY': 'B', 'CHE': 'C', 'BIO': 'A', 'FMA': 'B', 'PMM': 'B'}\n",
      "\t MONKAM MONKAM STEVE KEVIN      \t GPA: 4.00 | 20 points -> {'CHE': 'B', 'PMM': 'A', 'FMA': 'B', 'PHY': 'A', 'CSC': 'D'}\n",
      "\t NJI JOEL MBUN                  \t GPA: 4.00 | 20 points -> {'BIO': 'A', 'CHE': 'B', 'FMA': 'C', 'PHY': 'C', 'PMM': 'A'}\n",
      "\t DJONGOUE TCHUEMENI RYAM BRADY  \t GPA: 4.00 | 20 points -> {'BIO': 'B', 'PMM': 'A', 'FMA': 'C', 'PHY': 'A', 'CHE': 'C'}\n",
      "\t MOUTONGO SAMUEL                \t GPA: 4.00 | 20 points -> {'BIO': 'B', 'FMA': 'B', 'CHE': 'B', 'PMM': 'A', 'PHY': 'C'}\n",
      "\t DZOGANG TEMDEMNO MARIELLE CAND \t GPA: 4.00 | 20 points -> {'FMA': 'C', 'PHY': 'C', 'BIO': 'B', 'CHE': 'A', 'PMM': 'A'}\n",
      "\t MMIRA A NJOCK CHRISTINA MARIA  \t GPA: 4.00 | 20 points -> {'BIO': 'B', 'CHE': 'A', 'FMA': 'C', 'PMM': 'B', 'PHY': 'B'}\n",
      "\t NGUBE NEVILLE NGUM             \t GPA: 4.00 | 20 points -> {'FMA': 'B', 'BIO': 'B', 'CHE': 'B', 'PMM': 'A', 'PHY': 'C'}\n",
      "\t NJOMBE EJAH JULIUS DILAN       \t GPA: 4.00 | 20 points -> {'CHE': 'B', 'PMM': 'A', 'FMA': 'C', 'PHY': 'B', 'BIO': 'B'}\n",
      "\t WANDUM ONEIL NUVAGA            \t GPA: 4.00 | 20 points -> {'PMM': 'A', 'CHE': 'A', 'BIO': 'B', 'FMA': 'C', 'PHY': 'C'}\n",
      "\t ASONGWE HEXSFIELD JUNIOR       \t GPA: 4.00 | 20 points -> {'BIO': 'A', 'CHE': 'C', 'PMM': 'A', 'FMA': 'C', 'PHY': 'B'}\n",
      "\t KIFEM EUDIAS BONGSHE           \t GPA: 4.00 | 20 points -> {'BIO': 'B', 'CHE': 'A', 'FMA': 'C', 'PHY': 'B', 'PMM': 'B'}\n",
      "\t NUMBU HOLIX                    \t GPA: 4.00 | 20 points -> {'CHE': 'C', 'FMA': 'A', 'BIO': 'D', 'PMM': 'A', 'PHY': 'A'}\n",
      "\t SANDJO NDONKO DANY LARY        \t GPA: 4.00 | 20 points -> {'BIO': 'D', 'CHE': 'B', 'PMM': 'A', 'FMA': 'B', 'PHY': 'A'}\n",
      "\t MBIANOU TOUSSOM COLBERT BRADON \t GPA: 4.00 | 20 points -> {'BIO': 'B', 'CHE': 'B', 'FMA': 'B', 'PMM': 'A', 'PHY': 'C'}\n",
      "\t NDENECHO TIMOTHY NSOH          \t GPA: 4.00 | 20 points -> {'BIO': 'B', 'PMM': 'A', 'FMA': 'C', 'PHY': 'B', 'CHE': 'B'}\n",
      "\t MABOU MAURICE                  \t GPA: 4.00 | 20 points -> {'PHY': 'C', 'BIO': 'A', 'CHE': 'B', 'PMM': 'A', 'FMA': 'C'}\n",
      "\t ETA KELSON UHEKE               \t GPA: 4.00 | 20 points -> {'CHE': 'B', 'PHY': 'C', 'ICT': 'B', 'PMM': 'B', 'BIO': 'A'}\n",
      "\t EVOUNG MENGUE PAULIN YVES      \t GPA: 4.00 | 20 points -> {'PHI': 'B', 'REL': 'B', 'HIS': 'A', 'GEO': 'D', 'ECO': 'A'}\n",
      "\t NGWA QUINIVA NGWACHE           \t GPA: 4.00 | 20 points -> {'PHY': 'C', 'FMA': 'B', 'PMM': 'A', 'CHE': 'B', 'BIO': 'B'}\n",
      "\t MOUDJOKO TCHOUASSI RICHY ORCEL \t GPA: 4.00 | 20 points -> {'PHY': 'C', 'CHE': 'A', 'FMA': 'C', 'PMM': 'B', 'BIO': 'A'}\n",
      "\t TCHAMAGAM DIFFO MOREL          \t GPA: 4.00 | 20 points -> {'CHE': 'B', 'PHY': 'C', 'BIO': 'A', 'PMM': 'B', 'FMA': 'B'}\n",
      "\t KEUBOU TCHINDA ANGE DAVILA     \t GPA: 4.00 | 20 points -> {'BIO': 'B', 'CHE': 'A', 'PMM': 'A', 'FMA': 'C', 'PHY': 'C'}\n",
      "\t MUKUM DONNY FON                \t GPA: 4.00 | 20 points -> {'CHE': 'B', 'BIO': 'A', 'PMM': 'A', 'FMA': 'C', 'PHY': 'C'}\n",
      "\t NKEMZI DENISON EFUETBEZAH      \t GPA: 4.00 | 20 points -> {'FMA': 'D', 'PHY': 'B', 'PMM': 'A', 'CHE': 'B', 'BIO': 'A'}\n",
      "\t YANKAM NJIYA STEPHANE ARCHANGE \t GPA: 4.00 | 20 points -> {'BIO': 'B', 'CHE': 'B', 'PMM': 'A', 'FMA': 'C', 'PHY': 'B'}\n",
      "\t BEKENG ISAAC NKAMBEH           \t GPA: 4.00 | 20 points -> {'PMM': 'A', 'CHE': 'C', 'PHY': 'B', 'FMA': 'B', 'BIO': 'B'}\n",
      "\t NGUIFFO TENE FOKA JOEL DAVID   \t GPA: 4.00 | 20 points -> {'ICT': 'C', 'PMM': 'A', 'PHY': 'B', 'CHE': 'C', 'FMA': 'A'}\n",
      "\t HABIB BRYANT TANY KAKE         \t GPA: 4.00 | 20 points -> {'BIO': 'B', 'CHE': 'B', 'FMA': 'B', 'PHY': 'C', 'PMM': 'A'}\n",
      "\t NGULEFAC ASONG VILLIAN         \t GPA: 4.00 | 20 points -> {'PHY': 'C', 'PMM': 'C', 'FSN': 'A', 'CHE': 'A', 'BIO': 'B'}\n",
      "\t WIRBA CLAUDIN JOLA             \t GPA: 4.00 | 20 points -> {'LIT': 'E', 'HIS': 'A', 'PHI': 'A', 'ENG': 'A', 'FRE': 'B'}\n",
      "\t ANGELA MAMBO ADEH              \t GPA: 4.00 | 20 points -> {'CHE': 'B', 'BIO': 'B', 'PHY': 'C', 'FMA': 'B', 'PMM': 'A'}\n",
      "\t TCHEPNGOUM DJEUKAM JOHAN DARIL \t GPA: 4.00 | 20 points -> {'PHY': 'C', 'PMM': 'A', 'CHE': 'A', 'FMA': 'A', 'BIO': 'D'}\n"
     ]
    }
   ],
   "source": [
    "## All 20 points candidates\n",
    "\n",
    "print(f\"Total {grade_distribution[20].count} candidates with 20 points\")\n",
    "print(f\"Candidates with 20 points(top {top_n_percent(grade_distribution, 20):.2f}%):\")\n",
    "for candidate in grade_distribution[20].names:\n",
    "    print(\"\\t\", return_first_n_chars_or_fill_with_spaces(candidate), \"\\t\",  dict_candidates[candidate])"
   ]
  },
  {
   "cell_type": "code",
   "execution_count": 74,
   "metadata": {},
   "outputs": [
    {
     "name": "stdout",
     "output_type": "stream",
     "text": [
      "Total 112 candidates with 19 points\n",
      "Candidates with 19 points(top 1.29%):\n",
      "\t JOHN RICHMAN NWIBING           \t GPA: 3.80 | 19 points -> {'PHY': 'B', 'BIO': 'C', 'CHE': 'C', 'PMM': 'A', 'FMA': 'B'}\n",
      "\t BOUJIQUE LAH EVARISTE JOEL     \t GPA: 3.80 | 19 points -> {'CHE': 'B', 'FMA': 'C', 'CSC': 'C', 'PMM': 'B', 'PHY': 'A'}\n",
      "\t FURAH OGBONA OKORO             \t GPA: 3.80 | 19 points -> {'PMM': 'A', 'CHE': 'C', 'BIO': 'C', 'PHY': 'B', 'FMA': 'B'}\n",
      "\t NDA SANDRA EGWAR               \t GPA: 3.80 | 19 points -> {'PHY': 'A', 'BIO': 'C', 'CHE': 'B', 'PMM': 'B', 'FMA': 'C'}\n",
      "\t KONGOR DILIGENT ASOHNYU        \t GPA: 3.80 | 19 points -> {'PHY': 'B', 'CHE': 'B', 'PMM': 'A', 'FMA': 'C', 'CSC': 'C'}\n",
      "\t FORSTER ROPHINE NSOH           \t GPA: 3.80 | 19 points -> {'BIO': 'A', 'CHE': 'A', 'PMM': 'B', 'FMA': 'C', 'PHY': 'D'}\n",
      "\t DOHNJENKA ROSE NAHBUM          \t GPA: 3.80 | 19 points -> {'BIO': 'B', 'CHE': 'A', 'PMM': 'B', 'FMA': 'C', 'PHY': 'C'}\n",
      "\t NJEI CLOVIS MBAH               \t GPA: 3.80 | 19 points -> {'BIO': 'B', 'CHE': 'C', 'PMM': 'A', 'FMA': 'D', 'PHY': 'A'}\n",
      "\t NCHANG AGHETSEH AMANDINE       \t GPA: 3.80 | 19 points -> {'CHE': 'B', 'FSN': 'A', 'PMM': 'D', 'PHY': 'C', 'BIO': 'A'}\n",
      "\t AKONGNUI BORIS                 \t GPA: 3.80 | 19 points -> {'BIO': 'B', 'CHE': 'A', 'PMM': 'B', 'FMA': 'C', 'PHY': 'C'}\n",
      "\t BERINYUY YVAN LOIC             \t GPA: 3.80 | 19 points -> {'FMA': 'D', 'PMM': 'A', 'CHE': 'C', 'BIO': 'B', 'PHY': 'A'}\n",
      "\t FOKAM FOTSO WILFRIED           \t GPA: 3.80 | 19 points -> {'PHY': 'B', 'FMA': 'C', 'PMM': 'A', 'CHE': 'C', 'BIO': 'B'}\n",
      "\t ENDUM DE NKOUAMI CHARLENE      \t GPA: 3.80 | 19 points -> {'BIO': 'B', 'CHE': 'B', 'PMS': 'B', 'FMA': 'C', 'PHY': 'B'}\n",
      "\t AKONGNWI SANDRA AFUNGTU        \t GPA: 3.80 | 19 points -> {'FMA': 'C', 'BIO': 'B', 'CHE': 'A', 'PMM': 'B', 'PHY': 'C'}\n",
      "\t ESSIMO IYA ETA MOKUBE          \t GPA: 3.80 | 19 points -> {'BIO': 'B', 'CHE': 'A', 'PMM': 'B', 'PHY': 'B', 'ICT': 'D'}\n",
      "\t ELNA LEINYUY                   \t GPA: 3.80 | 19 points -> {'BIO': 'C', 'CHE': 'C', 'PMM': 'A', 'FMA': 'A', 'PHY': 'C'}\n",
      "\t NDZELEN BLANDINE BONGNAVTY     \t GPA: 3.80 | 19 points -> {'FSN': 'A', 'HIS': 'A', 'BIO': 'B', 'CHE': 'E', 'GGY': 'B'}\n",
      "\t NADIA MENGIE NJUH ACHIA        \t GPA: 3.80 | 19 points -> {'PHY': 'D', 'CHE': 'B', 'PMS': 'B', 'BIO': 'B', 'FSN': 'A'}\n",
      "\t ETOANDANG BLECK EKAABA         \t GPA: 3.80 | 19 points -> {'PMM': 'D', 'FMA': 'A', 'PHY': 'B', 'BIO': 'B', 'CHE': 'B'}\n",
      "\t MAYONG BRENDY THELMA FONJINDAM \t GPA: 3.80 | 19 points -> {'PMM': 'B', 'BIO': 'A', 'CHE': 'B', 'PHY': 'B', 'FMA': 'D'}\n",
      "\t TAAH JESBEL ABEI               \t GPA: 3.80 | 19 points -> {'BIO': 'B', 'CHE': 'B', 'FMA': 'C', 'PHY': 'C', 'PMM': 'A'}\n",
      "\t NDEH SHARON FRIWEI             \t GPA: 3.80 | 19 points -> {'ECO': 'A', 'GEO': 'C', 'HIS': 'B', 'REL': 'B', 'ICT': 'C'}\n",
      "\t ACHU ONEIL AZONG               \t GPA: 3.80 | 19 points -> {'BIO': 'B', 'CHE': 'C', 'PMM': 'A', 'FMA': 'B', 'PHY': 'C'}\n",
      "\t MOFOR KEVIN CHI                \t GPA: 3.80 | 19 points -> {'CHE': 'B', 'PHY': 'C', 'BIO': 'B', 'PMM': 'A', 'FMA': 'C'}\n",
      "\t AFUH KARTIA MAH                \t GPA: 4.75 | 19 points -> {'BIO': 'A', 'CHE': 'A', 'PMM': 'A', 'PHY': 'B'}\n",
      "\t SONG DEODONNE                  \t GPA: 3.80 | 19 points -> {'FMA': 'B', 'PHY': 'C', 'BIO': 'B', 'PMM': 'A', 'CHE': 'C'}\n",
      "\t AZOCHA URSULA                  \t GPA: 3.80 | 19 points -> {'CHE': 'C', 'PMS': 'B', 'BIO': 'B', 'PHY': 'C', 'FSN': 'A'}\n",
      "\t KETCHAMEN ASHLEY MARIONNE TAMW \t GPA: 3.80 | 19 points -> {'BIO': 'C', 'CHE': 'A', 'FSN': 'A', 'PMS': 'C', 'PHY': 'C'}\n",
      "\t YEPMO MABOU CHRISTOPHER        \t GPA: 3.80 | 19 points -> {'CHE': 'D', 'PMM': 'A', 'FMA': 'B', 'PHY': 'A', 'ICT': 'C'}\n",
      "\t EMILIENNE FENUI FONGONG        \t GPA: 3.80 | 19 points -> {'ICT': 'C', 'PHY': 'A', 'CHE': 'C', 'PMM': 'A', 'FMA': 'C'}\n",
      "\t MOKAM YOUMSSI SYNTHIA ORNELLA  \t GPA: 3.80 | 19 points -> {'FRE': 'B', 'ENG': 'B', 'LIT': 'D', 'HIS': 'A', 'PHI': 'B'}\n",
      "\t FONJOU DOUNGLA MICHELLE HARSLY \t GPA: 4.75 | 19 points -> {'BIO': 'A', 'PMM': 'A', 'FMA': 'B', 'PHY': 'A'}\n",
      "\t NEMBOUE DJIMAFO BRISTAIN MAXIM \t GPA: 4.75 | 19 points -> {'BIO': 'A', 'FMA': 'B', 'PMM': 'A', 'PHY': 'A'}\n",
      "\t DAKOGHA BLAISE JUNIOR          \t GPA: 3.80 | 19 points -> {'FMA': 'B', 'BIO': 'B', 'CHE': 'B', 'PMM': 'A', 'PHY': 'D'}\n",
      "\t AGBOR TAKANG AYUK              \t GPA: 4.75 | 19 points -> {'FMA': 'A', 'BIO': 'A', 'PMM': 'A', 'PHY': 'B'}\n",
      "\t AKOH NOELA NDING               \t GPA: 3.80 | 19 points -> {'BIO': 'B', 'PMM': 'A', 'FMA': 'D', 'PHY': 'B', 'CHE': 'B'}\n",
      "\t TUATIO DALCINE                 \t GPA: 3.80 | 19 points -> {'BIO': 'B', 'CHE': 'B', 'PMM': 'A', 'FMA': 'C', 'PHY': 'C'}\n",
      "\t MEUKE SIMO ARIELLE             \t GPA: 3.80 | 19 points -> {'BIO': 'C', 'CHE': 'C', 'PMM': 'A', 'FMA': 'B', 'PHY': 'B'}\n",
      "\t NDOH NKWETI DARLINGTON MUKONG  \t GPA: 3.80 | 19 points -> {'BIO': 'A', 'PHY': 'C', 'CHE': 'B', 'PMM': 'B', 'ICT': 'C'}\n",
      "\t NEBA ESTHERBEL BIH             \t GPA: 3.80 | 19 points -> {'FMA': 'D', 'BIO': 'B', 'PHY': 'B', 'CHE': 'B', 'PMM': 'A'}\n",
      "\t AKO RONALDO TAKWI              \t GPA: 4.75 | 19 points -> {'CHE': 'B', 'BIO': 'A', 'PMM': 'A', 'PHY': 'A'}\n",
      "\t MEGUEGANG MOMO SYLVANIE VERONI \t GPA: 3.80 | 19 points -> {'PMM': 'A', 'CHE': 'B', 'FMA': 'B', 'PHY': 'A', 'CSC': 'E'}\n",
      "\t YEMELI TANKEU VALDES           \t GPA: 3.80 | 19 points -> {'FMA': 'A', 'PHY': 'B', 'CHE': 'B', 'PMM': 'A', 'CSC': 'E'}\n",
      "\t TEM WUNG PATER ADOLF           \t GPA: 3.80 | 19 points -> {'PMM': 'B', 'BIO': 'A', 'CHE': 'B', 'FMA': 'D', 'PHY': 'B'}\n",
      "\t NINA OTIA ASHEY                \t GPA: 3.80 | 19 points -> {'PHI': 'D', 'GEO': 'B', 'REL': 'B', 'ECO': 'A', 'HIS': 'B'}\n",
      "\t NGUIMATSIA MEZATIO HENRI       \t GPA: 3.80 | 19 points -> {'FMA': 'A', 'PMM': 'A', 'PHY': 'B', 'CHE': 'C', 'BIO': 'D'}\n",
      "\t MOMO DONFACK GUY PAVEL         \t GPA: 3.80 | 19 points -> {'BIO': 'B', 'PHY': 'B', 'FMA': 'C', 'CHE': 'C', 'PMM': 'A'}\n",
      "\t TONTSA APALA GHISLAIN FRANK    \t GPA: 3.80 | 19 points -> {'CHE': 'B', 'PMM': 'A', 'FMA': 'A', 'PHY': 'B', 'CSC': 'E'}\n",
      "\t BALLA BALLA SERGE ANTOINE      \t GPA: 3.80 | 19 points -> {'CHE': 'C', 'BIO': 'C', 'PMM': 'A', 'FMA': 'A', 'PHY': 'C'}\n",
      "\t NOMBOH EVANS KUNCHU            \t GPA: 3.80 | 19 points -> {'CHE': 'C', 'PMM': 'A', 'FMA': 'B', 'ICT': 'C', 'PHY': 'B'}\n",
      "\t FOKAM KUATE JUNIOR             \t GPA: 3.80 | 19 points -> {'PHY': 'A', 'PMM': 'A', 'CHE': 'D', 'BIO': 'B', 'FMA': 'C'}\n",
      "\t EBAI GESLEN MUWA               \t GPA: 3.80 | 19 points -> {'BIO': 'B', 'CHE': 'C', 'PMM': 'A', 'FMA': 'C', 'PHY': 'B'}\n",
      "\t NJITA ARNAUD TENKAM            \t GPA: 3.80 | 19 points -> {'BIO': 'B', 'CHE': 'B', 'PMM': 'B', 'PHY': 'C', 'ICT': 'B'}\n",
      "\t AGBORANYOR KELLY EBANGHA       \t GPA: 3.80 | 19 points -> {'ECO': 'A', 'ENG': 'C', 'GEO': 'B', 'HIS': 'B', 'REL': 'C'}\n",
      "\t NZONDE TCHINDA WILFRIED        \t GPA: 3.80 | 19 points -> {'BIO': 'B', 'CHE': 'C', 'PMM': 'A', 'FMA': 'C', 'PHY': 'B'}\n",
      "\t SIAKAM KAMADEU VICTORINE NOVIC \t GPA: 3.80 | 19 points -> {'BIO': 'B', 'CHE': 'C', 'PMM': 'A', 'FMA': 'B', 'PHY': 'C'}\n",
      "\t AV NYET AGNIEL ESDRAS          \t GPA: 3.80 | 19 points -> {'PMM': 'A', 'BIO': 'B', 'PHY': 'C', 'FMA': 'B', 'CHE': 'C'}\n",
      "\t TCHEULO NJIKE RIVES MALLET     \t GPA: 4.75 | 19 points -> {'BIO': 'A', 'PMM': 'A', 'CHE': 'A', 'PHY': 'B'}\n",
      "\t DJEPANG WAHAKOU CHRISTIAN VALA \t GPA: 3.80 | 19 points -> {'PMM': 'A', 'CHE': 'B', 'FMA': 'A', 'CSC': 'E', 'PHY': 'B'}\n",
      "\t SIRRI KELLEY AMBE              \t GPA: 3.80 | 19 points -> {'CHE': 'A', 'PHY': 'B', 'ICT': 'C', 'BIO': 'C', 'PMM': 'B'}\n",
      "\t TENENG WILSON NDIFOR           \t GPA: 3.80 | 19 points -> {'BIO': 'B', 'FSN': 'A', 'GGY': 'B', 'ICT': 'C', 'CHE': 'C'}\n",
      "\t NGUEMENI TOUKO VERNIQUE SOLANG \t GPA: 3.80 | 19 points -> {'BIO': 'A', 'CHE': 'B', 'PMM': 'B', 'FMA': 'D', 'PHY': 'B'}\n",
      "\t NGWA LOUIS AMBE                \t GPA: 3.80 | 19 points -> {'BIO': 'C', 'CHE': 'C', 'FMA': 'B', 'PHY': 'B', 'PMM': 'A'}\n",
      "\t KFUH KINGSLEY KAN              \t GPA: 3.80 | 19 points -> {'PHY': 'D', 'BIO': 'A', 'CHE': 'A', 'PMM': 'A', 'FMA': 'D'}\n",
      "\t NSAH SYMPATHY LESI             \t GPA: 3.80 | 19 points -> {'BIO': 'A', 'PHY': 'D', 'CHE': 'A', 'PMM': 'B', 'FMA': 'C'}\n",
      "\t BI EVELYNE SHU                 \t GPA: 3.80 | 19 points -> {'BIO': 'B', 'PMM': 'A', 'PHY': 'C', 'CHE': 'B', 'FMA': 'C'}\n",
      "\t DJEUMEN MOUMBE BRICE           \t GPA: 3.80 | 19 points -> {'PMM': 'A', 'CHE': 'C', 'BIO': 'B', 'FMA': 'C', 'PHY': 'B'}\n",
      "\t SHEY EUGENE NKEVE              \t GPA: 3.80 | 19 points -> {'PMM': 'A', 'BIO': 'B', 'CHE': 'C', 'FMA': 'B', 'PHY': 'C'}\n",
      "\t TAFFOHOUO NWAFFEU YVES VALDEZ  \t GPA: 3.80 | 19 points -> {'CHE': 'B', 'PMM': 'A', 'FMA': 'A', 'PHY': 'B', 'CSC': 'E'}\n",
      "\t TENENG DAISY MBU               \t GPA: 3.80 | 19 points -> {'PMM': 'B', 'BIO': 'B', 'CHE': 'B', 'FMA': 'B', 'PHY': 'C'}\n",
      "\t NKEMONTOH ACHU AFANWIGOTZ      \t GPA: 3.80 | 19 points -> {'BIO': 'B', 'CHE': 'A', 'PHY': 'C', 'PMM': 'B', 'ICT': 'C'}\n",
      "\t AKASHI AGESHI NGU DANIEL       \t GPA: 3.80 | 19 points -> {'BIO': 'B', 'FMA': 'C', 'PMM': 'A', 'PHY': 'C', 'CHE': 'B'}\n",
      "\t JEAN CHRISTOPHE VALERE BEBEY M \t GPA: 4.75 | 19 points -> {'CHE': 'A', 'PMM': 'A', 'FMA': 'B', 'PHY': 'A'}\n",
      "\t MARYAM IBRAHIM                 \t GPA: 3.80 | 19 points -> {'CHE': 'A', 'BIO': 'A', 'PMM': 'B', 'FMA': 'D', 'PHY': 'C'}\n",
      "\t TCHAMATOU THIERRY              \t GPA: 3.80 | 19 points -> {'FRE': 'B', 'GEO': 'C', 'PMS': 'A', 'ICT': 'D', 'ECO': 'A'}\n",
      "\t MEKO FOTSO VICTOIRE            \t GPA: 3.80 | 19 points -> {'CHE': 'B', 'PMM': 'A', 'PHY': 'D', 'FMA': 'A', 'BIO': 'C'}\n",
      "\t TCHAPDA NGALLA GUY SEVET       \t GPA: 4.75 | 19 points -> {'PHY': 'B', 'PMM': 'A', 'CHE': 'A', 'FMA': 'A'}\n",
      "\t TINA ATENGUENA SANDRA LAETICIA \t GPA: 3.80 | 19 points -> {'BIO': 'A', 'CHE': 'B', 'FMA': 'C', 'PHY': 'C', 'PMM': 'B'}\n",
      "\t LAWAN ARSHKEH DZEGHAN          \t GPA: 3.80 | 19 points -> {'ICT': 'D', 'ECO': 'B', 'GEO': 'B', 'HIS': 'A', 'PHI': 'B'}\n",
      "\t CHENWI LARISSA SIRRI           \t GPA: 4.75 | 19 points -> {'GEO': 'A', 'PHI': 'A', 'ECO': 'A', 'HIS': 'B'}\n",
      "\t MATABOT OBEN DORIANE           \t GPA: 3.80 | 19 points -> {'BIO': 'B', 'PMM': 'B', 'FMA': 'C', 'PHY': 'B', 'CHE': 'B'}\n",
      "\t DZALI YAPMO ALEXAN HAROLD      \t GPA: 4.75 | 19 points -> {'CHE': 'B', 'PHY': 'A', 'PMM': 'A', 'FMA': 'A'}\n",
      "\t AFUNGCHWI CYNTHIA NGENGANG     \t GPA: 3.80 | 19 points -> {'BIO': 'A', 'FMA': 'C', 'PHY': 'C', 'CHE': 'C', 'PMM': 'A'}\n",
      "\t NKWAIN TRACY IKFUI             \t GPA: 3.80 | 19 points -> {'ENG': 'B', 'ICT': 'B', 'ECO': 'B', 'LIT': 'D', 'HIS': 'A'}\n",
      "\t ABAM SAMUEL BATE               \t GPA: 3.80 | 19 points -> {'ICT': 'B', 'PHY': 'C', 'CHE': 'B', 'BIO': 'B', 'PMM': 'B'}\n",
      "\t KAMTO TAGNE EDDY RICHEL        \t GPA: 4.75 | 19 points -> {'PHY': 'A', 'FMA': 'A', 'PMM': 'A', 'CHE': 'B'}\n",
      "\t MATANG KENDIENG SAMEDI LEONTIN \t GPA: 3.80 | 19 points -> {'BIO': 'C', 'PHY': 'C', 'CHE': 'B', 'PMM': 'A', 'FMA': 'B'}\n",
      "\t MALLE MALDEL AKAWA NONO        \t GPA: 3.80 | 19 points -> {'BIO': 'B', 'CHE': 'B', 'PMS': 'B', 'PHY': 'B', 'ICT': 'C'}\n",
      "\t NGUM ELEANOR ANYE              \t GPA: 3.80 | 19 points -> {'CHE': 'A', 'PMM': 'A', 'FMA': 'B', 'PHY': 'B', 'CSC': 'E'}\n",
      "\t AGWENJANG MARIETTE BEI         \t GPA: 3.80 | 19 points -> {'CHE': 'B', 'BIO': 'A', 'PMM': 'B', 'PHY': 'C', 'ICT': 'C'}\n",
      "\t YIMDJO KAMDEM ARIELLE          \t GPA: 3.80 | 19 points -> {'BIO': 'A', 'CHE': 'B', 'PMM': 'B', 'FMA': 'C', 'PHY': 'C'}\n",
      "\t FOTSEU MEGUE BRENDA ARIANE     \t GPA: 3.80 | 19 points -> {'CHE': 'C', 'PMM': 'A', 'ICT': 'C', 'BIO': 'A', 'PHY': 'C'}\n",
      "\t SAMARI JERNA AMIKE             \t GPA: 3.80 | 19 points -> {'CHE': 'B', 'PMM': 'A', 'PHY': 'C', 'ICT': 'C', 'BIO': 'B'}\n",
      "\t NGAMALEU NOUBISSIE LISE MAELLE \t GPA: 3.80 | 19 points -> {'PHY': 'C', 'ICT': 'B', 'CHE': 'C', 'PMM': 'A', 'BIO': 'B'}\n",
      "\t NOUREDINE MAMA                 \t GPA: 3.80 | 19 points -> {'CHE': 'B', 'PMM': 'A', 'PHY': 'C', 'ICT': 'C', 'BIO': 'B'}\n",
      "\t DONGMO NGOUMO LYNNE CARMEN     \t GPA: 3.80 | 19 points -> {'FMA': 'B', 'CHE': 'B', 'PMM': 'A', 'PHY': 'B', 'ICT': 'D'}\n",
      "\t KENKO TOGO TCHAKOUNTE LYDIE    \t GPA: 3.80 | 19 points -> {'BIO': 'B', 'CHE': 'C', 'PMM': 'A', 'PHY': 'C', 'FMA': 'B'}\n",
      "\t DOUMA AMAH PAUL JUNIOR         \t GPA: 4.75 | 19 points -> {'BIO': 'A', 'CHE': 'A', 'PHY': 'B', 'PMM': 'A'}\n",
      "\t DONGMO GOUFACK BOREL           \t GPA: 3.80 | 19 points -> {'BIO': 'C', 'CHE': 'B', 'PMM': 'A', 'FMA': 'B', 'PHY': 'C'}\n",
      "\t ENO HARRIS                     \t GPA: 3.80 | 19 points -> {'ECO': 'B', 'HIS': 'A', 'REL': 'C', 'GEO': 'A', 'ICT': 'D'}\n",
      "\t BENG SONDAY HANS NELSON        \t GPA: 3.80 | 19 points -> {'BIO': 'B', 'CHE': 'C', 'PMM': 'A', 'FMA': 'C', 'PHY': 'B'}\n",
      "\t NKENGNE FOSSI BELMONT LOIC     \t GPA: 3.80 | 19 points -> {'BIO': 'B', 'CHE': 'B', 'PMM': 'B', 'FMA': 'C', 'PHY': 'B'}\n",
      "\t TOUKO ENGWAPI PATRICK BRYAND   \t GPA: 3.80 | 19 points -> {'CHE': 'B', 'PMM': 'A', 'FMA': 'B', 'CSC': 'E', 'PHY': 'A'}\n",
      "\t NGEUKEU NGONGANG ALAIN YVAN    \t GPA: 3.80 | 19 points -> {'FMA': 'C', 'ICT': 'B', 'PMM': 'A', 'CHE': 'B', 'PHY': 'C'}\n",
      "\t MOKUKE NAMONDO SYNTHIA         \t GPA: 3.80 | 19 points -> {'BIO': 'B', 'CHE': 'B', 'GGY': 'A', 'PMM': 'C', 'PHY': 'C'}\n",
      "\t AGHA EMMANUEL                  \t GPA: 3.80 | 19 points -> {'PMM': 'A', 'PHY': 'C', 'FMA': 'C', 'CHE': 'B', 'BIO': 'B'}\n",
      "\t TOMI YONKOUA RAPHAELLE CHARLOT \t GPA: 3.80 | 19 points -> {'PHY': 'C', 'FMA': 'C', 'PMM': 'A', 'CHE': 'C', 'BIO': 'A'}\n",
      "\t NOUGA NDANKOU GAREFFE DANIELLA \t GPA: 3.80 | 19 points -> {'PHY': 'A', 'BIO': 'B', 'CHE': 'B', 'PMM': 'A', 'FMA': 'E'}\n",
      "\t NGAH BORIS GHAKANYUY           \t GPA: 3.80 | 19 points -> {'BIO': 'A', 'PHY': 'B', 'FMA': 'B', 'PMM': 'B', 'CHE': 'D'}\n",
      "\t FRU CHASLEY WULGHIWIMBOM       \t GPA: 3.80 | 19 points -> {'ENG': 'B', 'LIT': 'D', 'HIS': 'A', 'ECO': 'B', 'FRE': 'B'}\n",
      "\t MENPANOU KOUAMOUO AUBRY        \t GPA: 3.80 | 19 points -> {'BIO': 'B', 'CHE': 'C', 'PHY': 'B', 'PMM': 'B', 'ICT': 'B'}\n",
      "\t NANDA DIPIPI                   \t GPA: 3.80 | 19 points -> {'CHE': 'B', 'PMM': 'A', 'FMA': 'C', 'PHY': 'C', 'ICT': 'B'}\n"
     ]
    }
   ],
   "source": [
    "## All 19 points candidates\n",
    "\n",
    "print(f\"Total {grade_distribution[19].count} candidates with 19 points\")\n",
    "print(f\"Candidates with 19 points(top {top_n_percent(grade_distribution, 19):.2f}%):\")\n",
    "for candidate in grade_distribution[19].names:\n",
    "    print(\"\\t\", return_first_n_chars_or_fill_with_spaces(candidate), \"\\t\",  dict_candidates[candidate])"
   ]
  }
 ],
 "metadata": {
  "kernelspec": {
   "display_name": "Python 3",
   "language": "python",
   "name": "python3"
  },
  "language_info": {
   "codemirror_mode": {
    "name": "ipython",
    "version": 3
   },
   "file_extension": ".py",
   "mimetype": "text/x-python",
   "name": "python",
   "nbconvert_exporter": "python",
   "pygments_lexer": "ipython3",
   "version": "3.11.4"
  }
 },
 "nbformat": 4,
 "nbformat_minor": 2
}
